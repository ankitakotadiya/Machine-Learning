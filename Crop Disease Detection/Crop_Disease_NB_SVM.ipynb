{
  "nbformat": 4,
  "nbformat_minor": 0,
  "metadata": {
    "colab": {
      "provenance": []
    },
    "kernelspec": {
      "name": "python3",
      "display_name": "Python 3"
    },
    "language_info": {
      "name": "python"
    }
  },
  "cells": [
    {
      "cell_type": "markdown",
      "source": [
        "# Libraries"
      ],
      "metadata": {
        "id": "KtxuWsh6cQJk"
      }
    },
    {
      "cell_type": "code",
      "execution_count": null,
      "metadata": {
        "id": "Z8npiIjkcL50"
      },
      "outputs": [],
      "source": [
        "import numpy as np\n",
        "import pandas as pd\n",
        "import os\n",
        "from os import listdir\n",
        "import time\n",
        "import matplotlib.pyplot as plt\n",
        "import cv2\n",
        "import seaborn as sns\n",
        "sns.set_style('darkgrid')\n",
        "import shutil\n",
        "from sklearn.metrics import confusion_matrix, classification_report\n",
        "from sklearn.model_selection import train_test_split\n",
        "from tensorflow.keras.preprocessing.image import ImageDataGenerator\n",
        "from tensorflow.keras.preprocessing.image import img_to_array\n",
        "from sklearn.preprocessing import LabelBinarizer\n",
        "import pickle\n",
        "from sklearn.preprocessing import StandardScaler\n",
        "from sklearn.decomposition import PCA\n",
        "import scipy.stats as stats\n",
        "from sklearn.naive_bayes import GaussianNB\n",
        "from sklearn.svm import SVC\n",
        "from sklearn.inspection import permutation_importance\n",
        "from sklearn.ensemble import RandomForestClassifier\n",
        "from sklearn.model_selection import RandomizedSearchCV\n",
        "from scipy.stats import randint\n",
        "from sklearn.linear_model import LogisticRegression\n"
      ]
    },
    {
      "cell_type": "code",
      "source": [
        "EPOCHS = 10\n",
        "INIT_LR = 1e-3\n",
        "BS = 32\n",
        "default_image_size = tuple((150, 150))\n",
        "image_size = 0\n",
        "directory_root = '/content/drive/MyDrive/Crop Disease/Image Data base'\n",
        "width=150\n",
        "height=150\n",
        "depth=1"
      ],
      "metadata": {
        "id": "UNwdJRlgdT9F"
      },
      "execution_count": null,
      "outputs": []
    },
    {
      "cell_type": "code",
      "source": [
        "def convert_image_to_array(image_dir):\n",
        "    try:\n",
        "        image = cv2.imread(image_dir)\n",
        "        if image is not None :\n",
        "            image = cv2.resize(image, default_image_size)   \n",
        "            return img_to_array(image)\n",
        "        else :\n",
        "            return np.array([])\n",
        "    except Exception as e:\n",
        "        print(f\"Error : {e}\")\n",
        "        return None"
      ],
      "metadata": {
        "id": "RcSy_8kDdT_6"
      },
      "execution_count": null,
      "outputs": []
    },
    {
      "cell_type": "code",
      "source": [
        "image_list, label_list,training_data,image_path = [], [],[],[]\n",
        "try:\n",
        "    print(\"[INFO] Loading images ...\")\n",
        "    root_dir = listdir(directory_root)\n",
        "    dir = ''\n",
        "    for plant_folder in root_dir :\n",
        "\n",
        "        if plant_folder != 'Healthy':\n",
        "          plant_disease_folder_list = listdir(f\"{directory_root}/{plant_folder}\")\n",
        "          print(f\"[INFO] Processing {plant_folder} ...\")\n",
        "\n",
        "          if len(plant_disease_folder_list) >= 200:\n",
        "            for image in plant_disease_folder_list[:200]:\n",
        "\n",
        "                image_directory = f'{directory_root}/{plant_folder}/{image}'\n",
        "              \n",
        "                if image_directory.endswith(\".jpg\") == True or image_directory.endswith(\".JPG\") == True:\n",
        "                          image_list.append(convert_image_to_array(image_directory))\n",
        "                          label_list.append(plant_folder)\n",
        "                          image_path.append(image_directory)\n",
        "        \n",
        "\n",
        "    print(\"[INFO] Image loading completed\")  \n",
        "except Exception as e:\n",
        "    print(f\"Error : {e}\")"
      ],
      "metadata": {
        "colab": {
          "base_uri": "https://localhost:8080/"
        },
        "id": "L0QnIqp0dUCp",
        "outputId": "80505d19-e689-4e5b-ca1b-2973337274d6"
      },
      "execution_count": null,
      "outputs": [
        {
          "output_type": "stream",
          "name": "stdout",
          "text": [
            "[INFO] Loading images ...\n",
            "[INFO] Processing algal leaf in tea ...\n",
            "[INFO] Processing anthracnose in tea ...\n",
            "[INFO] Processing Apple Apple scab ...\n",
            "[INFO] Processing Apple Black rot ...\n",
            "[INFO] Processing Apple Cedar apple rust ...\n",
            "[INFO] Processing Bacterial leaf blight in rice leaf ...\n",
            "[INFO] Processing bird eye spot in tea ...\n",
            "[INFO] Processing Blight in corn Leaf ...\n",
            "[INFO] Processing brown blight in tea ...\n",
            "[INFO] Processing Brown spot in rice leaf ...\n",
            "[INFO] Processing cabbage looper ...\n",
            "[INFO] Processing Cercospora leaf spot ...\n",
            "[INFO] Processing Cherry (including sour) Powdery mildew ...\n",
            "[INFO] Processing Common Rust in corn Leaf ...\n",
            "[INFO] Processing Grape Black rot ...\n",
            "[INFO] Processing Gray Leaf Spot in corn Leaf ...\n",
            "[INFO] Processing lemon canker ...\n",
            "[INFO] Processing Nitrogen deficiency in plant ...\n",
            "[INFO] Processing potassium deficiency in plant ...\n",
            "[INFO] Processing Potato Early blight ...\n",
            "[INFO] Processing Potato Late blight ...\n",
            "[INFO] Processing Sogatella rice ...\n",
            "[INFO] Processing Tomato Bacterial spot ...\n",
            "[INFO] Processing Tomato Early blight ...\n",
            "[INFO] Processing Tomato Septoria leaf spot ...\n",
            "[INFO] Processing Tomato Spider mites Two spotted spider mite ...\n",
            "[INFO] Processing Tomato Target Spot ...\n",
            "[INFO] Processing Waterlogging in plant ...\n",
            "[INFO] Image loading completed\n"
          ]
        }
      ]
    },
    {
      "cell_type": "code",
      "source": [
        "plant_folder = 'Healthy'\n",
        "plant_disease_folder_list = listdir(f\"{directory_root}/{plant_folder}\")\n",
        "\n",
        "  \n",
        "for h_folder in plant_disease_folder_list:\n",
        "\n",
        "  h_dir = listdir(f'{directory_root}/{plant_folder}/{h_folder}')\n",
        "\n",
        "  for image in h_dir[:25]:\n",
        "\n",
        "    image_directory = f'{directory_root}/{plant_folder}/{h_folder}/{image}'\n",
        "  \n",
        "    if image_directory.endswith(\".jpg\") == True or image_directory.endswith(\".JPG\") == True:\n",
        "              image_list.append(convert_image_to_array(image_directory))\n",
        "              label_list.append(plant_folder)\n",
        "              image_path.append(image_directory)"
      ],
      "metadata": {
        "id": "8BFh11zsdUFQ"
      },
      "execution_count": null,
      "outputs": []
    },
    {
      "cell_type": "code",
      "source": [
        "X = image_list\n"
      ],
      "metadata": {
        "id": "DrtdKmXYdUHp"
      },
      "execution_count": null,
      "outputs": []
    },
    {
      "cell_type": "code",
      "source": [
        "image_size = len(image_list)\n"
      ],
      "metadata": {
        "id": "FzL7-g9OdUKg"
      },
      "execution_count": null,
      "outputs": []
    },
    {
      "cell_type": "code",
      "source": [
        "X= np.array(X).reshape(image_size,-1)\n"
      ],
      "metadata": {
        "id": "spaE4RpodUNh"
      },
      "execution_count": null,
      "outputs": []
    },
    {
      "cell_type": "code",
      "source": [
        "image_list[0].shape"
      ],
      "metadata": {
        "colab": {
          "base_uri": "https://localhost:8080/"
        },
        "id": "65_ZZoPedUQF",
        "outputId": "71e8a282-96b3-4b4c-a499-34643535b719"
      },
      "execution_count": null,
      "outputs": [
        {
          "output_type": "execute_result",
          "data": {
            "text/plain": [
              "(150, 150, 3)"
            ]
          },
          "metadata": {},
          "execution_count": 10
        }
      ]
    },
    {
      "cell_type": "code",
      "source": [
        "X = X/255.0\n"
      ],
      "metadata": {
        "id": "YaYnOv7PdUSa"
      },
      "execution_count": null,
      "outputs": []
    },
    {
      "cell_type": "code",
      "source": [
        "df = pd.DataFrame({'Labels':label_list})"
      ],
      "metadata": {
        "id": "qGHvCA8vdUUz"
      },
      "execution_count": null,
      "outputs": []
    },
    {
      "cell_type": "code",
      "source": [
        "df['Category'] = pd.factorize(df['Labels'], sort=False)[0]"
      ],
      "metadata": {
        "id": "OiONehjqdUXM"
      },
      "execution_count": null,
      "outputs": []
    },
    {
      "cell_type": "code",
      "source": [
        "y = df.Category"
      ],
      "metadata": {
        "id": "O6yMSzhndUZx"
      },
      "execution_count": null,
      "outputs": []
    },
    {
      "cell_type": "markdown",
      "source": [
        "# Dimensionality Reduction"
      ],
      "metadata": {
        "id": "_WH0rPs-mynM"
      }
    },
    {
      "cell_type": "code",
      "source": [
        "Pca_Values = []\n",
        "Acc_Score = []\n",
        "Acc_Score_train = []"
      ],
      "metadata": {
        "id": "EbxFzl7UmX5U"
      },
      "execution_count": null,
      "outputs": []
    },
    {
      "cell_type": "code",
      "source": [
        "ss = StandardScaler()\n",
        "bees_stand = ss.fit_transform(X)\n",
        "\n",
        "comp = 50\n",
        "Pca_Values.append(comp)\n",
        "pca = PCA(n_components=comp)\n",
        "# use fit_transform to run PCA on our standardized matrix\n",
        "pca.fit_transform(bees_stand)\n",
        "reduced = pca.transform(bees_stand)\n"
      ],
      "metadata": {
        "id": "vO1l0-yMmX8M"
      },
      "execution_count": null,
      "outputs": []
    },
    {
      "cell_type": "code",
      "source": [
        "X_n = pd.DataFrame(reduced)"
      ],
      "metadata": {
        "id": "JWnKw8MumX--"
      },
      "execution_count": null,
      "outputs": []
    },
    {
      "cell_type": "code",
      "source": [
        "X_n"
      ],
      "metadata": {
        "colab": {
          "base_uri": "https://localhost:8080/",
          "height": 487
        },
        "id": "HxP2k4J_mYEO",
        "outputId": "8ee0ea69-bf3e-47aa-8cfc-ab58f1b13d3f"
      },
      "execution_count": null,
      "outputs": [
        {
          "output_type": "execute_result",
          "data": {
            "text/plain": [
              "              0           1          2          3          4          5   \\\n",
              "0     361.898621  -96.225449   1.258532 -20.087450  13.812411   7.096200   \n",
              "1     362.000854  -16.272741  74.515800  16.668772  69.825836 -63.466812   \n",
              "2     327.537903 -116.903603 -84.606804 -18.002205  -2.056221  -2.425444   \n",
              "3     360.097168  -97.366478   1.031242  41.072411  18.438784  -9.097738   \n",
              "4     328.765564 -142.397247   3.425206 -14.817533   2.028856  -5.541529   \n",
              "...          ...         ...        ...        ...        ...        ...   \n",
              "4195   41.586304 -106.671135  34.650017   9.979740 -38.545166  -3.614646   \n",
              "4196   30.992863 -133.566986 -25.096008   5.307425  -6.547452  -0.130974   \n",
              "4197   43.523350  -40.112347 -22.288137 -42.864731 -54.771683 -35.398067   \n",
              "4198  -64.284134 -150.670563 -27.638447  33.740154 -23.510235  20.478100   \n",
              "4199   84.618591  -36.892483 -29.573071  45.812908 -38.186657  12.824227   \n",
              "\n",
              "             6          7          8          9   ...         40         41  \\\n",
              "0    -31.077454 -12.790490  18.613291  67.702576  ...  -9.759682  -2.290902   \n",
              "1     -9.904073   3.637636 -59.672459  29.895653  ...  -2.430047   0.891362   \n",
              "2     -8.077702  18.201115  24.759933  31.579077  ...  -6.130079  10.818809   \n",
              "3    -31.512558  26.642277  35.088215  60.745888  ...  -6.068509  -1.279856   \n",
              "4    -13.021929   8.049588 -11.989328  34.388493  ... -13.323487  11.400872   \n",
              "...         ...        ...        ...        ...  ...        ...        ...   \n",
              "4195  69.833740  26.568399  25.031916   0.900970  ...  -8.297649  -9.688956   \n",
              "4196  54.530525   9.606862 -16.356020  -0.117504  ...   1.261049   0.806408   \n",
              "4197  56.939663  60.762959  29.258423  33.953739  ... -15.428939  -8.617270   \n",
              "4198  17.447308 -34.498711 -27.300882  30.707130  ...  -9.813411  -0.208898   \n",
              "4199  55.107121  80.743225  11.204637  29.359171  ...   9.821273   7.962940   \n",
              "\n",
              "             42         43         44         45         46         47  \\\n",
              "0      0.865054 -22.419895  10.697903  19.090322 -10.251316  12.806096   \n",
              "1     -5.545342  -1.522460  -9.073654   2.799300   7.050782  -6.697923   \n",
              "2     -8.415296  -1.591815   0.737766  -1.896417  23.365059   7.379289   \n",
              "3     11.255282  20.292440   1.038873 -27.375652  -1.845436  -4.455994   \n",
              "4    -16.024807  -3.021682   0.120930   1.108254  23.615200   1.681379   \n",
              "...         ...        ...        ...        ...        ...        ...   \n",
              "4195   1.265578 -19.934721   2.590813  -2.722170 -10.478309  -2.079891   \n",
              "4196  -2.563964   0.132907  -6.411891 -11.539891  -8.164742 -10.516157   \n",
              "4197   4.431273  -9.176916   0.712204   9.004234   2.358000  17.635818   \n",
              "4198  19.213396  -0.261269   1.874925  -4.620174  11.796722  -4.250270   \n",
              "4199   4.957687   4.497506   7.913429 -12.487034   6.455147   0.928213   \n",
              "\n",
              "             48         49  \n",
              "0     -6.545262   8.911745  \n",
              "1     -6.052088 -14.717789  \n",
              "2      2.191005  14.166661  \n",
              "3     -4.506156  11.021475  \n",
              "4     -3.106287   7.820064  \n",
              "...         ...        ...  \n",
              "4195  -1.726820  -1.873798  \n",
              "4196 -26.003416 -12.531113  \n",
              "4197   4.017189  -3.244166  \n",
              "4198 -11.170275   5.559074  \n",
              "4199  -3.120367  -7.756478  \n",
              "\n",
              "[4200 rows x 50 columns]"
            ],
            "text/html": [
              "\n",
              "  <div id=\"df-cbca0f41-5733-4a34-af65-cb755d9d0463\">\n",
              "    <div class=\"colab-df-container\">\n",
              "      <div>\n",
              "<style scoped>\n",
              "    .dataframe tbody tr th:only-of-type {\n",
              "        vertical-align: middle;\n",
              "    }\n",
              "\n",
              "    .dataframe tbody tr th {\n",
              "        vertical-align: top;\n",
              "    }\n",
              "\n",
              "    .dataframe thead th {\n",
              "        text-align: right;\n",
              "    }\n",
              "</style>\n",
              "<table border=\"1\" class=\"dataframe\">\n",
              "  <thead>\n",
              "    <tr style=\"text-align: right;\">\n",
              "      <th></th>\n",
              "      <th>0</th>\n",
              "      <th>1</th>\n",
              "      <th>2</th>\n",
              "      <th>3</th>\n",
              "      <th>4</th>\n",
              "      <th>5</th>\n",
              "      <th>6</th>\n",
              "      <th>7</th>\n",
              "      <th>8</th>\n",
              "      <th>9</th>\n",
              "      <th>...</th>\n",
              "      <th>40</th>\n",
              "      <th>41</th>\n",
              "      <th>42</th>\n",
              "      <th>43</th>\n",
              "      <th>44</th>\n",
              "      <th>45</th>\n",
              "      <th>46</th>\n",
              "      <th>47</th>\n",
              "      <th>48</th>\n",
              "      <th>49</th>\n",
              "    </tr>\n",
              "  </thead>\n",
              "  <tbody>\n",
              "    <tr>\n",
              "      <th>0</th>\n",
              "      <td>361.898621</td>\n",
              "      <td>-96.225449</td>\n",
              "      <td>1.258532</td>\n",
              "      <td>-20.087450</td>\n",
              "      <td>13.812411</td>\n",
              "      <td>7.096200</td>\n",
              "      <td>-31.077454</td>\n",
              "      <td>-12.790490</td>\n",
              "      <td>18.613291</td>\n",
              "      <td>67.702576</td>\n",
              "      <td>...</td>\n",
              "      <td>-9.759682</td>\n",
              "      <td>-2.290902</td>\n",
              "      <td>0.865054</td>\n",
              "      <td>-22.419895</td>\n",
              "      <td>10.697903</td>\n",
              "      <td>19.090322</td>\n",
              "      <td>-10.251316</td>\n",
              "      <td>12.806096</td>\n",
              "      <td>-6.545262</td>\n",
              "      <td>8.911745</td>\n",
              "    </tr>\n",
              "    <tr>\n",
              "      <th>1</th>\n",
              "      <td>362.000854</td>\n",
              "      <td>-16.272741</td>\n",
              "      <td>74.515800</td>\n",
              "      <td>16.668772</td>\n",
              "      <td>69.825836</td>\n",
              "      <td>-63.466812</td>\n",
              "      <td>-9.904073</td>\n",
              "      <td>3.637636</td>\n",
              "      <td>-59.672459</td>\n",
              "      <td>29.895653</td>\n",
              "      <td>...</td>\n",
              "      <td>-2.430047</td>\n",
              "      <td>0.891362</td>\n",
              "      <td>-5.545342</td>\n",
              "      <td>-1.522460</td>\n",
              "      <td>-9.073654</td>\n",
              "      <td>2.799300</td>\n",
              "      <td>7.050782</td>\n",
              "      <td>-6.697923</td>\n",
              "      <td>-6.052088</td>\n",
              "      <td>-14.717789</td>\n",
              "    </tr>\n",
              "    <tr>\n",
              "      <th>2</th>\n",
              "      <td>327.537903</td>\n",
              "      <td>-116.903603</td>\n",
              "      <td>-84.606804</td>\n",
              "      <td>-18.002205</td>\n",
              "      <td>-2.056221</td>\n",
              "      <td>-2.425444</td>\n",
              "      <td>-8.077702</td>\n",
              "      <td>18.201115</td>\n",
              "      <td>24.759933</td>\n",
              "      <td>31.579077</td>\n",
              "      <td>...</td>\n",
              "      <td>-6.130079</td>\n",
              "      <td>10.818809</td>\n",
              "      <td>-8.415296</td>\n",
              "      <td>-1.591815</td>\n",
              "      <td>0.737766</td>\n",
              "      <td>-1.896417</td>\n",
              "      <td>23.365059</td>\n",
              "      <td>7.379289</td>\n",
              "      <td>2.191005</td>\n",
              "      <td>14.166661</td>\n",
              "    </tr>\n",
              "    <tr>\n",
              "      <th>3</th>\n",
              "      <td>360.097168</td>\n",
              "      <td>-97.366478</td>\n",
              "      <td>1.031242</td>\n",
              "      <td>41.072411</td>\n",
              "      <td>18.438784</td>\n",
              "      <td>-9.097738</td>\n",
              "      <td>-31.512558</td>\n",
              "      <td>26.642277</td>\n",
              "      <td>35.088215</td>\n",
              "      <td>60.745888</td>\n",
              "      <td>...</td>\n",
              "      <td>-6.068509</td>\n",
              "      <td>-1.279856</td>\n",
              "      <td>11.255282</td>\n",
              "      <td>20.292440</td>\n",
              "      <td>1.038873</td>\n",
              "      <td>-27.375652</td>\n",
              "      <td>-1.845436</td>\n",
              "      <td>-4.455994</td>\n",
              "      <td>-4.506156</td>\n",
              "      <td>11.021475</td>\n",
              "    </tr>\n",
              "    <tr>\n",
              "      <th>4</th>\n",
              "      <td>328.765564</td>\n",
              "      <td>-142.397247</td>\n",
              "      <td>3.425206</td>\n",
              "      <td>-14.817533</td>\n",
              "      <td>2.028856</td>\n",
              "      <td>-5.541529</td>\n",
              "      <td>-13.021929</td>\n",
              "      <td>8.049588</td>\n",
              "      <td>-11.989328</td>\n",
              "      <td>34.388493</td>\n",
              "      <td>...</td>\n",
              "      <td>-13.323487</td>\n",
              "      <td>11.400872</td>\n",
              "      <td>-16.024807</td>\n",
              "      <td>-3.021682</td>\n",
              "      <td>0.120930</td>\n",
              "      <td>1.108254</td>\n",
              "      <td>23.615200</td>\n",
              "      <td>1.681379</td>\n",
              "      <td>-3.106287</td>\n",
              "      <td>7.820064</td>\n",
              "    </tr>\n",
              "    <tr>\n",
              "      <th>...</th>\n",
              "      <td>...</td>\n",
              "      <td>...</td>\n",
              "      <td>...</td>\n",
              "      <td>...</td>\n",
              "      <td>...</td>\n",
              "      <td>...</td>\n",
              "      <td>...</td>\n",
              "      <td>...</td>\n",
              "      <td>...</td>\n",
              "      <td>...</td>\n",
              "      <td>...</td>\n",
              "      <td>...</td>\n",
              "      <td>...</td>\n",
              "      <td>...</td>\n",
              "      <td>...</td>\n",
              "      <td>...</td>\n",
              "      <td>...</td>\n",
              "      <td>...</td>\n",
              "      <td>...</td>\n",
              "      <td>...</td>\n",
              "      <td>...</td>\n",
              "    </tr>\n",
              "    <tr>\n",
              "      <th>4195</th>\n",
              "      <td>41.586304</td>\n",
              "      <td>-106.671135</td>\n",
              "      <td>34.650017</td>\n",
              "      <td>9.979740</td>\n",
              "      <td>-38.545166</td>\n",
              "      <td>-3.614646</td>\n",
              "      <td>69.833740</td>\n",
              "      <td>26.568399</td>\n",
              "      <td>25.031916</td>\n",
              "      <td>0.900970</td>\n",
              "      <td>...</td>\n",
              "      <td>-8.297649</td>\n",
              "      <td>-9.688956</td>\n",
              "      <td>1.265578</td>\n",
              "      <td>-19.934721</td>\n",
              "      <td>2.590813</td>\n",
              "      <td>-2.722170</td>\n",
              "      <td>-10.478309</td>\n",
              "      <td>-2.079891</td>\n",
              "      <td>-1.726820</td>\n",
              "      <td>-1.873798</td>\n",
              "    </tr>\n",
              "    <tr>\n",
              "      <th>4196</th>\n",
              "      <td>30.992863</td>\n",
              "      <td>-133.566986</td>\n",
              "      <td>-25.096008</td>\n",
              "      <td>5.307425</td>\n",
              "      <td>-6.547452</td>\n",
              "      <td>-0.130974</td>\n",
              "      <td>54.530525</td>\n",
              "      <td>9.606862</td>\n",
              "      <td>-16.356020</td>\n",
              "      <td>-0.117504</td>\n",
              "      <td>...</td>\n",
              "      <td>1.261049</td>\n",
              "      <td>0.806408</td>\n",
              "      <td>-2.563964</td>\n",
              "      <td>0.132907</td>\n",
              "      <td>-6.411891</td>\n",
              "      <td>-11.539891</td>\n",
              "      <td>-8.164742</td>\n",
              "      <td>-10.516157</td>\n",
              "      <td>-26.003416</td>\n",
              "      <td>-12.531113</td>\n",
              "    </tr>\n",
              "    <tr>\n",
              "      <th>4197</th>\n",
              "      <td>43.523350</td>\n",
              "      <td>-40.112347</td>\n",
              "      <td>-22.288137</td>\n",
              "      <td>-42.864731</td>\n",
              "      <td>-54.771683</td>\n",
              "      <td>-35.398067</td>\n",
              "      <td>56.939663</td>\n",
              "      <td>60.762959</td>\n",
              "      <td>29.258423</td>\n",
              "      <td>33.953739</td>\n",
              "      <td>...</td>\n",
              "      <td>-15.428939</td>\n",
              "      <td>-8.617270</td>\n",
              "      <td>4.431273</td>\n",
              "      <td>-9.176916</td>\n",
              "      <td>0.712204</td>\n",
              "      <td>9.004234</td>\n",
              "      <td>2.358000</td>\n",
              "      <td>17.635818</td>\n",
              "      <td>4.017189</td>\n",
              "      <td>-3.244166</td>\n",
              "    </tr>\n",
              "    <tr>\n",
              "      <th>4198</th>\n",
              "      <td>-64.284134</td>\n",
              "      <td>-150.670563</td>\n",
              "      <td>-27.638447</td>\n",
              "      <td>33.740154</td>\n",
              "      <td>-23.510235</td>\n",
              "      <td>20.478100</td>\n",
              "      <td>17.447308</td>\n",
              "      <td>-34.498711</td>\n",
              "      <td>-27.300882</td>\n",
              "      <td>30.707130</td>\n",
              "      <td>...</td>\n",
              "      <td>-9.813411</td>\n",
              "      <td>-0.208898</td>\n",
              "      <td>19.213396</td>\n",
              "      <td>-0.261269</td>\n",
              "      <td>1.874925</td>\n",
              "      <td>-4.620174</td>\n",
              "      <td>11.796722</td>\n",
              "      <td>-4.250270</td>\n",
              "      <td>-11.170275</td>\n",
              "      <td>5.559074</td>\n",
              "    </tr>\n",
              "    <tr>\n",
              "      <th>4199</th>\n",
              "      <td>84.618591</td>\n",
              "      <td>-36.892483</td>\n",
              "      <td>-29.573071</td>\n",
              "      <td>45.812908</td>\n",
              "      <td>-38.186657</td>\n",
              "      <td>12.824227</td>\n",
              "      <td>55.107121</td>\n",
              "      <td>80.743225</td>\n",
              "      <td>11.204637</td>\n",
              "      <td>29.359171</td>\n",
              "      <td>...</td>\n",
              "      <td>9.821273</td>\n",
              "      <td>7.962940</td>\n",
              "      <td>4.957687</td>\n",
              "      <td>4.497506</td>\n",
              "      <td>7.913429</td>\n",
              "      <td>-12.487034</td>\n",
              "      <td>6.455147</td>\n",
              "      <td>0.928213</td>\n",
              "      <td>-3.120367</td>\n",
              "      <td>-7.756478</td>\n",
              "    </tr>\n",
              "  </tbody>\n",
              "</table>\n",
              "<p>4200 rows × 50 columns</p>\n",
              "</div>\n",
              "      <button class=\"colab-df-convert\" onclick=\"convertToInteractive('df-cbca0f41-5733-4a34-af65-cb755d9d0463')\"\n",
              "              title=\"Convert this dataframe to an interactive table.\"\n",
              "              style=\"display:none;\">\n",
              "        \n",
              "  <svg xmlns=\"http://www.w3.org/2000/svg\" height=\"24px\"viewBox=\"0 0 24 24\"\n",
              "       width=\"24px\">\n",
              "    <path d=\"M0 0h24v24H0V0z\" fill=\"none\"/>\n",
              "    <path d=\"M18.56 5.44l.94 2.06.94-2.06 2.06-.94-2.06-.94-.94-2.06-.94 2.06-2.06.94zm-11 1L8.5 8.5l.94-2.06 2.06-.94-2.06-.94L8.5 2.5l-.94 2.06-2.06.94zm10 10l.94 2.06.94-2.06 2.06-.94-2.06-.94-.94-2.06-.94 2.06-2.06.94z\"/><path d=\"M17.41 7.96l-1.37-1.37c-.4-.4-.92-.59-1.43-.59-.52 0-1.04.2-1.43.59L10.3 9.45l-7.72 7.72c-.78.78-.78 2.05 0 2.83L4 21.41c.39.39.9.59 1.41.59.51 0 1.02-.2 1.41-.59l7.78-7.78 2.81-2.81c.8-.78.8-2.07 0-2.86zM5.41 20L4 18.59l7.72-7.72 1.47 1.35L5.41 20z\"/>\n",
              "  </svg>\n",
              "      </button>\n",
              "      \n",
              "  <style>\n",
              "    .colab-df-container {\n",
              "      display:flex;\n",
              "      flex-wrap:wrap;\n",
              "      gap: 12px;\n",
              "    }\n",
              "\n",
              "    .colab-df-convert {\n",
              "      background-color: #E8F0FE;\n",
              "      border: none;\n",
              "      border-radius: 50%;\n",
              "      cursor: pointer;\n",
              "      display: none;\n",
              "      fill: #1967D2;\n",
              "      height: 32px;\n",
              "      padding: 0 0 0 0;\n",
              "      width: 32px;\n",
              "    }\n",
              "\n",
              "    .colab-df-convert:hover {\n",
              "      background-color: #E2EBFA;\n",
              "      box-shadow: 0px 1px 2px rgba(60, 64, 67, 0.3), 0px 1px 3px 1px rgba(60, 64, 67, 0.15);\n",
              "      fill: #174EA6;\n",
              "    }\n",
              "\n",
              "    [theme=dark] .colab-df-convert {\n",
              "      background-color: #3B4455;\n",
              "      fill: #D2E3FC;\n",
              "    }\n",
              "\n",
              "    [theme=dark] .colab-df-convert:hover {\n",
              "      background-color: #434B5C;\n",
              "      box-shadow: 0px 1px 3px 1px rgba(0, 0, 0, 0.15);\n",
              "      filter: drop-shadow(0px 1px 2px rgba(0, 0, 0, 0.3));\n",
              "      fill: #FFFFFF;\n",
              "    }\n",
              "  </style>\n",
              "\n",
              "      <script>\n",
              "        const buttonEl =\n",
              "          document.querySelector('#df-cbca0f41-5733-4a34-af65-cb755d9d0463 button.colab-df-convert');\n",
              "        buttonEl.style.display =\n",
              "          google.colab.kernel.accessAllowed ? 'block' : 'none';\n",
              "\n",
              "        async function convertToInteractive(key) {\n",
              "          const element = document.querySelector('#df-cbca0f41-5733-4a34-af65-cb755d9d0463');\n",
              "          const dataTable =\n",
              "            await google.colab.kernel.invokeFunction('convertToInteractive',\n",
              "                                                     [key], {});\n",
              "          if (!dataTable) return;\n",
              "\n",
              "          const docLinkHtml = 'Like what you see? Visit the ' +\n",
              "            '<a target=\"_blank\" href=https://colab.research.google.com/notebooks/data_table.ipynb>data table notebook</a>'\n",
              "            + ' to learn more about interactive tables.';\n",
              "          element.innerHTML = '';\n",
              "          dataTable['output_type'] = 'display_data';\n",
              "          await google.colab.output.renderOutput(dataTable, element);\n",
              "          const docLink = document.createElement('div');\n",
              "          docLink.innerHTML = docLinkHtml;\n",
              "          element.appendChild(docLink);\n",
              "        }\n",
              "      </script>\n",
              "    </div>\n",
              "  </div>\n",
              "  "
            ]
          },
          "metadata": {},
          "execution_count": 135
        }
      ]
    },
    {
      "cell_type": "code",
      "source": [
        "X_train,X_test,y_train,y_test=train_test_split(X_n,y,test_size=0.15,random_state=77,stratify=y)"
      ],
      "metadata": {
        "id": "eaDTHvE_oqh8"
      },
      "execution_count": null,
      "outputs": []
    },
    {
      "cell_type": "code",
      "source": [
        "model = GaussianNB()\n",
        "model.fit(X_train, y_train)"
      ],
      "metadata": {
        "colab": {
          "base_uri": "https://localhost:8080/",
          "height": 74
        },
        "id": "gx9cJVCuov4q",
        "outputId": "6667cef1-460d-4cce-9af6-0867bdeb9900"
      },
      "execution_count": null,
      "outputs": [
        {
          "output_type": "execute_result",
          "data": {
            "text/plain": [
              "GaussianNB()"
            ],
            "text/html": [
              "<style>#sk-container-id-12 {color: black;background-color: white;}#sk-container-id-12 pre{padding: 0;}#sk-container-id-12 div.sk-toggleable {background-color: white;}#sk-container-id-12 label.sk-toggleable__label {cursor: pointer;display: block;width: 100%;margin-bottom: 0;padding: 0.3em;box-sizing: border-box;text-align: center;}#sk-container-id-12 label.sk-toggleable__label-arrow:before {content: \"▸\";float: left;margin-right: 0.25em;color: #696969;}#sk-container-id-12 label.sk-toggleable__label-arrow:hover:before {color: black;}#sk-container-id-12 div.sk-estimator:hover label.sk-toggleable__label-arrow:before {color: black;}#sk-container-id-12 div.sk-toggleable__content {max-height: 0;max-width: 0;overflow: hidden;text-align: left;background-color: #f0f8ff;}#sk-container-id-12 div.sk-toggleable__content pre {margin: 0.2em;color: black;border-radius: 0.25em;background-color: #f0f8ff;}#sk-container-id-12 input.sk-toggleable__control:checked~div.sk-toggleable__content {max-height: 200px;max-width: 100%;overflow: auto;}#sk-container-id-12 input.sk-toggleable__control:checked~label.sk-toggleable__label-arrow:before {content: \"▾\";}#sk-container-id-12 div.sk-estimator input.sk-toggleable__control:checked~label.sk-toggleable__label {background-color: #d4ebff;}#sk-container-id-12 div.sk-label input.sk-toggleable__control:checked~label.sk-toggleable__label {background-color: #d4ebff;}#sk-container-id-12 input.sk-hidden--visually {border: 0;clip: rect(1px 1px 1px 1px);clip: rect(1px, 1px, 1px, 1px);height: 1px;margin: -1px;overflow: hidden;padding: 0;position: absolute;width: 1px;}#sk-container-id-12 div.sk-estimator {font-family: monospace;background-color: #f0f8ff;border: 1px dotted black;border-radius: 0.25em;box-sizing: border-box;margin-bottom: 0.5em;}#sk-container-id-12 div.sk-estimator:hover {background-color: #d4ebff;}#sk-container-id-12 div.sk-parallel-item::after {content: \"\";width: 100%;border-bottom: 1px solid gray;flex-grow: 1;}#sk-container-id-12 div.sk-label:hover label.sk-toggleable__label {background-color: #d4ebff;}#sk-container-id-12 div.sk-serial::before {content: \"\";position: absolute;border-left: 1px solid gray;box-sizing: border-box;top: 0;bottom: 0;left: 50%;z-index: 0;}#sk-container-id-12 div.sk-serial {display: flex;flex-direction: column;align-items: center;background-color: white;padding-right: 0.2em;padding-left: 0.2em;position: relative;}#sk-container-id-12 div.sk-item {position: relative;z-index: 1;}#sk-container-id-12 div.sk-parallel {display: flex;align-items: stretch;justify-content: center;background-color: white;position: relative;}#sk-container-id-12 div.sk-item::before, #sk-container-id-12 div.sk-parallel-item::before {content: \"\";position: absolute;border-left: 1px solid gray;box-sizing: border-box;top: 0;bottom: 0;left: 50%;z-index: -1;}#sk-container-id-12 div.sk-parallel-item {display: flex;flex-direction: column;z-index: 1;position: relative;background-color: white;}#sk-container-id-12 div.sk-parallel-item:first-child::after {align-self: flex-end;width: 50%;}#sk-container-id-12 div.sk-parallel-item:last-child::after {align-self: flex-start;width: 50%;}#sk-container-id-12 div.sk-parallel-item:only-child::after {width: 0;}#sk-container-id-12 div.sk-dashed-wrapped {border: 1px dashed gray;margin: 0 0.4em 0.5em 0.4em;box-sizing: border-box;padding-bottom: 0.4em;background-color: white;}#sk-container-id-12 div.sk-label label {font-family: monospace;font-weight: bold;display: inline-block;line-height: 1.2em;}#sk-container-id-12 div.sk-label-container {text-align: center;}#sk-container-id-12 div.sk-container {/* jupyter's `normalize.less` sets `[hidden] { display: none; }` but bootstrap.min.css set `[hidden] { display: none !important; }` so we also need the `!important` here to be able to override the default hidden behavior on the sphinx rendered scikit-learn.org. See: https://github.com/scikit-learn/scikit-learn/issues/21755 */display: inline-block !important;position: relative;}#sk-container-id-12 div.sk-text-repr-fallback {display: none;}</style><div id=\"sk-container-id-12\" class=\"sk-top-container\"><div class=\"sk-text-repr-fallback\"><pre>GaussianNB()</pre><b>In a Jupyter environment, please rerun this cell to show the HTML representation or trust the notebook. <br />On GitHub, the HTML representation is unable to render, please try loading this page with nbviewer.org.</b></div><div class=\"sk-container\" hidden><div class=\"sk-item\"><div class=\"sk-estimator sk-toggleable\"><input class=\"sk-toggleable__control sk-hidden--visually\" id=\"sk-estimator-id-12\" type=\"checkbox\" checked><label for=\"sk-estimator-id-12\" class=\"sk-toggleable__label sk-toggleable__label-arrow\">GaussianNB</label><div class=\"sk-toggleable__content\"><pre>GaussianNB()</pre></div></div></div></div></div>"
            ]
          },
          "metadata": {},
          "execution_count": 123
        }
      ]
    },
    {
      "cell_type": "code",
      "source": [
        "score = model.score(X_test,y_test)"
      ],
      "metadata": {
        "id": "aEUV9TfWpH3z"
      },
      "execution_count": null,
      "outputs": []
    },
    {
      "cell_type": "code",
      "source": [
        "score_train = model.score(X_train,y_train)"
      ],
      "metadata": {
        "id": "3seZ41ItpKDe"
      },
      "execution_count": null,
      "outputs": []
    },
    {
      "cell_type": "code",
      "source": [
        "Acc_Score_train.append(score_train)\n",
        "Acc_Score.append(score)\n",
        "score_train,score"
      ],
      "metadata": {
        "colab": {
          "base_uri": "https://localhost:8080/"
        },
        "id": "mHiPaLdfpS83",
        "outputId": "c81506fd-10f1-4dff-d40b-0c7bc54ca54a"
      },
      "execution_count": null,
      "outputs": [
        {
          "output_type": "execute_result",
          "data": {
            "text/plain": [
              "(0.6190476190476191, 0.5444444444444444)"
            ]
          },
          "metadata": {},
          "execution_count": 128
        }
      ]
    },
    {
      "cell_type": "code",
      "source": [
        "len(Pca_Values),len(Acc_Score_train)"
      ],
      "metadata": {
        "colab": {
          "base_uri": "https://localhost:8080/"
        },
        "id": "8ZwU0LDPsacz",
        "outputId": "f4eb8fa4-98c2-468b-ff33-1b6fd0712a73"
      },
      "execution_count": null,
      "outputs": [
        {
          "output_type": "execute_result",
          "data": {
            "text/plain": [
              "(5, 5)"
            ]
          },
          "metadata": {},
          "execution_count": 118
        }
      ]
    },
    {
      "cell_type": "code",
      "source": [
        "plt.figure(figsize=(6,5))\n",
        "plt.plot(Pca_Values , Acc_Score_train , 'go-' , label = 'Training Accuracy')\n",
        "plt.plot(Pca_Values , Acc_Score , 'ro-' , label = 'Test Accuracy')\n",
        "plt.title('Training & Test Accuracy')\n",
        "plt.legend()\n",
        "plt.xlabel(\"PCA Components\")\n",
        "plt.ylabel(\"Accuracy\")\n"
      ],
      "metadata": {
        "colab": {
          "base_uri": "https://localhost:8080/",
          "height": 504
        },
        "id": "ypBdds-2pa9k",
        "outputId": "1500339d-d672-46a2-847d-709722c63dbd"
      },
      "execution_count": null,
      "outputs": [
        {
          "output_type": "execute_result",
          "data": {
            "text/plain": [
              "Text(0, 0.5, 'Accuracy')"
            ]
          },
          "metadata": {},
          "execution_count": 129
        },
        {
          "output_type": "display_data",
          "data": {
            "text/plain": [
              "<Figure size 600x500 with 1 Axes>"
            ],
            "image/png": "[encoded data removed]"
          },
          "metadata": {}
        }
      ]
    },
    {
      "cell_type": "markdown",
      "source": [
        "# SVM"
      ],
      "metadata": {
        "id": "2wHl3r2Mpri5"
      }
    },
    {
      "cell_type": "code",
      "source": [
        "svc = SVC(C=10,kernel='rbf')\n",
        " \n",
        "# Fit the model\n",
        "svc.fit(X_train, y_train)"
      ],
      "metadata": {
        "colab": {
          "base_uri": "https://localhost:8080/",
          "height": 74
        },
        "id": "FkGjKLeSpqb3",
        "outputId": "d9a8ecd9-1556-44c5-b76f-54d077c40b0f"
      },
      "execution_count": null,
      "outputs": [
        {
          "output_type": "execute_result",
          "data": {
            "text/plain": [
              "SVC(C=10)"
            ],
            "text/html": [
              "<style>#sk-container-id-13 {color: black;background-color: white;}#sk-container-id-13 pre{padding: 0;}#sk-container-id-13 div.sk-toggleable {background-color: white;}#sk-container-id-13 label.sk-toggleable__label {cursor: pointer;display: block;width: 100%;margin-bottom: 0;padding: 0.3em;box-sizing: border-box;text-align: center;}#sk-container-id-13 label.sk-toggleable__label-arrow:before {content: \"▸\";float: left;margin-right: 0.25em;color: #696969;}#sk-container-id-13 label.sk-toggleable__label-arrow:hover:before {color: black;}#sk-container-id-13 div.sk-estimator:hover label.sk-toggleable__label-arrow:before {color: black;}#sk-container-id-13 div.sk-toggleable__content {max-height: 0;max-width: 0;overflow: hidden;text-align: left;background-color: #f0f8ff;}#sk-container-id-13 div.sk-toggleable__content pre {margin: 0.2em;color: black;border-radius: 0.25em;background-color: #f0f8ff;}#sk-container-id-13 input.sk-toggleable__control:checked~div.sk-toggleable__content {max-height: 200px;max-width: 100%;overflow: auto;}#sk-container-id-13 input.sk-toggleable__control:checked~label.sk-toggleable__label-arrow:before {content: \"▾\";}#sk-container-id-13 div.sk-estimator input.sk-toggleable__control:checked~label.sk-toggleable__label {background-color: #d4ebff;}#sk-container-id-13 div.sk-label input.sk-toggleable__control:checked~label.sk-toggleable__label {background-color: #d4ebff;}#sk-container-id-13 input.sk-hidden--visually {border: 0;clip: rect(1px 1px 1px 1px);clip: rect(1px, 1px, 1px, 1px);height: 1px;margin: -1px;overflow: hidden;padding: 0;position: absolute;width: 1px;}#sk-container-id-13 div.sk-estimator {font-family: monospace;background-color: #f0f8ff;border: 1px dotted black;border-radius: 0.25em;box-sizing: border-box;margin-bottom: 0.5em;}#sk-container-id-13 div.sk-estimator:hover {background-color: #d4ebff;}#sk-container-id-13 div.sk-parallel-item::after {content: \"\";width: 100%;border-bottom: 1px solid gray;flex-grow: 1;}#sk-container-id-13 div.sk-label:hover label.sk-toggleable__label {background-color: #d4ebff;}#sk-container-id-13 div.sk-serial::before {content: \"\";position: absolute;border-left: 1px solid gray;box-sizing: border-box;top: 0;bottom: 0;left: 50%;z-index: 0;}#sk-container-id-13 div.sk-serial {display: flex;flex-direction: column;align-items: center;background-color: white;padding-right: 0.2em;padding-left: 0.2em;position: relative;}#sk-container-id-13 div.sk-item {position: relative;z-index: 1;}#sk-container-id-13 div.sk-parallel {display: flex;align-items: stretch;justify-content: center;background-color: white;position: relative;}#sk-container-id-13 div.sk-item::before, #sk-container-id-13 div.sk-parallel-item::before {content: \"\";position: absolute;border-left: 1px solid gray;box-sizing: border-box;top: 0;bottom: 0;left: 50%;z-index: -1;}#sk-container-id-13 div.sk-parallel-item {display: flex;flex-direction: column;z-index: 1;position: relative;background-color: white;}#sk-container-id-13 div.sk-parallel-item:first-child::after {align-self: flex-end;width: 50%;}#sk-container-id-13 div.sk-parallel-item:last-child::after {align-self: flex-start;width: 50%;}#sk-container-id-13 div.sk-parallel-item:only-child::after {width: 0;}#sk-container-id-13 div.sk-dashed-wrapped {border: 1px dashed gray;margin: 0 0.4em 0.5em 0.4em;box-sizing: border-box;padding-bottom: 0.4em;background-color: white;}#sk-container-id-13 div.sk-label label {font-family: monospace;font-weight: bold;display: inline-block;line-height: 1.2em;}#sk-container-id-13 div.sk-label-container {text-align: center;}#sk-container-id-13 div.sk-container {/* jupyter's `normalize.less` sets `[hidden] { display: none; }` but bootstrap.min.css set `[hidden] { display: none !important; }` so we also need the `!important` here to be able to override the default hidden behavior on the sphinx rendered scikit-learn.org. See: https://github.com/scikit-learn/scikit-learn/issues/21755 */display: inline-block !important;position: relative;}#sk-container-id-13 div.sk-text-repr-fallback {display: none;}</style><div id=\"sk-container-id-13\" class=\"sk-top-container\"><div class=\"sk-text-repr-fallback\"><pre>SVC(C=10)</pre><b>In a Jupyter environment, please rerun this cell to show the HTML representation or trust the notebook. <br />On GitHub, the HTML representation is unable to render, please try loading this page with nbviewer.org.</b></div><div class=\"sk-container\" hidden><div class=\"sk-item\"><div class=\"sk-estimator sk-toggleable\"><input class=\"sk-toggleable__control sk-hidden--visually\" id=\"sk-estimator-id-13\" type=\"checkbox\" checked><label for=\"sk-estimator-id-13\" class=\"sk-toggleable__label sk-toggleable__label-arrow\">SVC</label><div class=\"sk-toggleable__content\"><pre>SVC(C=10)</pre></div></div></div></div></div>"
            ]
          },
          "metadata": {},
          "execution_count": 136
        }
      ]
    },
    {
      "cell_type": "code",
      "source": [
        "score = svc.score(X_test,y_test)"
      ],
      "metadata": {
        "id": "QNqyzHU_pqqt"
      },
      "execution_count": null,
      "outputs": []
    },
    {
      "cell_type": "code",
      "source": [
        "score_t = svc.score(X_train,y_train)"
      ],
      "metadata": {
        "id": "Hv4z5jsqpqtv"
      },
      "execution_count": null,
      "outputs": []
    },
    {
      "cell_type": "code",
      "source": [
        "score_t,score"
      ],
      "metadata": {
        "colab": {
          "base_uri": "https://localhost:8080/"
        },
        "id": "m_IV42wIpqws",
        "outputId": "f30b2c1e-dc0a-4cb9-94c1-c5ebf3d9fee1"
      },
      "execution_count": null,
      "outputs": [
        {
          "output_type": "execute_result",
          "data": {
            "text/plain": [
              "(0.9714285714285714, 0.6793650793650794)"
            ]
          },
          "metadata": {},
          "execution_count": 139
        }
      ]
    },
    {
      "cell_type": "code",
      "source": [
        "C_Values = [0.01,0.01,1.0,10,100]\n",
        "Gamma = [0.1,0.001,0.0001,0,10]\n",
        "\n",
        "train_score = []\n",
        "test_score = []\n",
        "\n",
        "for C,gamma in zip(C_Values,Gamma):\n",
        "\n",
        "  svc = SVC(C=C,gamma=gamma)\n",
        "  svc.fit(X_train,y_train)\n",
        "\n",
        "  trainScore = svc.score(X_train,y_train)\n",
        "  testScore = svc.score(X_test,y_test)\n",
        "\n",
        "  train_score.append(trainScore)\n",
        "  test_score.append(testScore)"
      ],
      "metadata": {
        "id": "xZaSARY_w5mc"
      },
      "execution_count": null,
      "outputs": []
    },
    {
      "cell_type": "code",
      "source": [
        "plt.figure(figsize=(6,5))\n",
        "plt.plot(C_Values , train_score , 'go-' , label = 'Training Accuracy')\n",
        "plt.plot(C_Values , test_score , 'ro-' , label = 'Test Accuracy')\n",
        "\n",
        "# plt.plot(Gamma , train_score , 'go-' , label = 'Training Accuracy')\n",
        "# plt.plot(Gamma , test_score , 'ro-' , label = 'Test Accuracy')\n",
        "\n",
        "plt.title('Training & Test Accuracy')\n",
        "plt.legend()\n",
        "plt.xlabel(\"C \")\n",
        "plt.ylabel(\"Accuracy\")"
      ],
      "metadata": {
        "colab": {
          "base_uri": "https://localhost:8080/",
          "height": 504
        },
        "id": "pg5bLkDnxIMM",
        "outputId": "1a95f727-9777-4e37-8cd6-b63e3770f8ad"
      },
      "execution_count": null,
      "outputs": [
        {
          "output_type": "execute_result",
          "data": {
            "text/plain": [
              "Text(0, 0.5, 'Accuracy')"
            ]
          },
          "metadata": {},
          "execution_count": 141
        },
        {
          "output_type": "display_data",
          "data": {
            "text/plain": [
              "<Figure size 600x500 with 1 Axes>"
            ],
            "image/png": "[encoded data removed]"
          },
          "metadata": {}
        }
      ]
    },
    {
      "cell_type": "code",
      "source": [
        "df = pd.DataFrame({'C':C_Values,'Gamma':Gamma,'Train Accuracy':train_score,'Test Accuracy':test_score})"
      ],
      "metadata": {
        "id": "noGqXklzxQ9y"
      },
      "execution_count": null,
      "outputs": []
    },
    {
      "cell_type": "code",
      "source": [
        "df"
      ],
      "metadata": {
        "colab": {
          "base_uri": "https://localhost:8080/",
          "height": 206
        },
        "id": "P6BjmQtDxTCM",
        "outputId": "abe1d118-1eb0-44ee-986e-bb3a58f67db1"
      },
      "execution_count": null,
      "outputs": [
        {
          "output_type": "execute_result",
          "data": {
            "text/plain": [
              "        C    Gamma  Train Accuracy  Test Accuracy\n",
              "0    0.01   0.1000        0.999440       0.165079\n",
              "1    0.01   0.0010        0.999440       0.126984\n",
              "2    1.00   0.0001        0.977311       0.638095\n",
              "3   10.00   0.0000        0.047619       0.047619\n",
              "4  100.00  10.0000        0.999440       0.090476"
            ],
            "text/html": [
              "\n",
              "  <div id=\"df-709f483c-145e-437b-973e-d4f775f366bb\">\n",
              "    <div class=\"colab-df-container\">\n",
              "      <div>\n",
              "<style scoped>\n",
              "    .dataframe tbody tr th:only-of-type {\n",
              "        vertical-align: middle;\n",
              "    }\n",
              "\n",
              "    .dataframe tbody tr th {\n",
              "        vertical-align: top;\n",
              "    }\n",
              "\n",
              "    .dataframe thead th {\n",
              "        text-align: right;\n",
              "    }\n",
              "</style>\n",
              "<table border=\"1\" class=\"dataframe\">\n",
              "  <thead>\n",
              "    <tr style=\"text-align: right;\">\n",
              "      <th></th>\n",
              "      <th>C</th>\n",
              "      <th>Gamma</th>\n",
              "      <th>Train Accuracy</th>\n",
              "      <th>Test Accuracy</th>\n",
              "    </tr>\n",
              "  </thead>\n",
              "  <tbody>\n",
              "    <tr>\n",
              "      <th>0</th>\n",
              "      <td>0.01</td>\n",
              "      <td>0.1000</td>\n",
              "      <td>0.999440</td>\n",
              "      <td>0.165079</td>\n",
              "    </tr>\n",
              "    <tr>\n",
              "      <th>1</th>\n",
              "      <td>0.01</td>\n",
              "      <td>0.0010</td>\n",
              "      <td>0.999440</td>\n",
              "      <td>0.126984</td>\n",
              "    </tr>\n",
              "    <tr>\n",
              "      <th>2</th>\n",
              "      <td>1.00</td>\n",
              "      <td>0.0001</td>\n",
              "      <td>0.977311</td>\n",
              "      <td>0.638095</td>\n",
              "    </tr>\n",
              "    <tr>\n",
              "      <th>3</th>\n",
              "      <td>10.00</td>\n",
              "      <td>0.0000</td>\n",
              "      <td>0.047619</td>\n",
              "      <td>0.047619</td>\n",
              "    </tr>\n",
              "    <tr>\n",
              "      <th>4</th>\n",
              "      <td>100.00</td>\n",
              "      <td>10.0000</td>\n",
              "      <td>0.999440</td>\n",
              "      <td>0.090476</td>\n",
              "    </tr>\n",
              "  </tbody>\n",
              "</table>\n",
              "</div>\n",
              "      <button class=\"colab-df-convert\" onclick=\"convertToInteractive('df-709f483c-145e-437b-973e-d4f775f366bb')\"\n",
              "              title=\"Convert this dataframe to an interactive table.\"\n",
              "              style=\"display:none;\">\n",
              "        \n",
              "  <svg xmlns=\"http://www.w3.org/2000/svg\" height=\"24px\"viewBox=\"0 0 24 24\"\n",
              "       width=\"24px\">\n",
              "    <path d=\"M0 0h24v24H0V0z\" fill=\"none\"/>\n",
              "    <path d=\"M18.56 5.44l.94 2.06.94-2.06 2.06-.94-2.06-.94-.94-2.06-.94 2.06-2.06.94zm-11 1L8.5 8.5l.94-2.06 2.06-.94-2.06-.94L8.5 2.5l-.94 2.06-2.06.94zm10 10l.94 2.06.94-2.06 2.06-.94-2.06-.94-.94-2.06-.94 2.06-2.06.94z\"/><path d=\"M17.41 7.96l-1.37-1.37c-.4-.4-.92-.59-1.43-.59-.52 0-1.04.2-1.43.59L10.3 9.45l-7.72 7.72c-.78.78-.78 2.05 0 2.83L4 21.41c.39.39.9.59 1.41.59.51 0 1.02-.2 1.41-.59l7.78-7.78 2.81-2.81c.8-.78.8-2.07 0-2.86zM5.41 20L4 18.59l7.72-7.72 1.47 1.35L5.41 20z\"/>\n",
              "  </svg>\n",
              "      </button>\n",
              "      \n",
              "  <style>\n",
              "    .colab-df-container {\n",
              "      display:flex;\n",
              "      flex-wrap:wrap;\n",
              "      gap: 12px;\n",
              "    }\n",
              "\n",
              "    .colab-df-convert {\n",
              "      background-color: #E8F0FE;\n",
              "      border: none;\n",
              "      border-radius: 50%;\n",
              "      cursor: pointer;\n",
              "      display: none;\n",
              "      fill: #1967D2;\n",
              "      height: 32px;\n",
              "      padding: 0 0 0 0;\n",
              "      width: 32px;\n",
              "    }\n",
              "\n",
              "    .colab-df-convert:hover {\n",
              "      background-color: #E2EBFA;\n",
              "      box-shadow: 0px 1px 2px rgba(60, 64, 67, 0.3), 0px 1px 3px 1px rgba(60, 64, 67, 0.15);\n",
              "      fill: #174EA6;\n",
              "    }\n",
              "\n",
              "    [theme=dark] .colab-df-convert {\n",
              "      background-color: #3B4455;\n",
              "      fill: #D2E3FC;\n",
              "    }\n",
              "\n",
              "    [theme=dark] .colab-df-convert:hover {\n",
              "      background-color: #434B5C;\n",
              "      box-shadow: 0px 1px 3px 1px rgba(0, 0, 0, 0.15);\n",
              "      filter: drop-shadow(0px 1px 2px rgba(0, 0, 0, 0.3));\n",
              "      fill: #FFFFFF;\n",
              "    }\n",
              "  </style>\n",
              "\n",
              "      <script>\n",
              "        const buttonEl =\n",
              "          document.querySelector('#df-709f483c-145e-437b-973e-d4f775f366bb button.colab-df-convert');\n",
              "        buttonEl.style.display =\n",
              "          google.colab.kernel.accessAllowed ? 'block' : 'none';\n",
              "\n",
              "        async function convertToInteractive(key) {\n",
              "          const element = document.querySelector('#df-709f483c-145e-437b-973e-d4f775f366bb');\n",
              "          const dataTable =\n",
              "            await google.colab.kernel.invokeFunction('convertToInteractive',\n",
              "                                                     [key], {});\n",
              "          if (!dataTable) return;\n",
              "\n",
              "          const docLinkHtml = 'Like what you see? Visit the ' +\n",
              "            '<a target=\"_blank\" href=https://colab.research.google.com/notebooks/data_table.ipynb>data table notebook</a>'\n",
              "            + ' to learn more about interactive tables.';\n",
              "          element.innerHTML = '';\n",
              "          dataTable['output_type'] = 'display_data';\n",
              "          await google.colab.output.renderOutput(dataTable, element);\n",
              "          const docLink = document.createElement('div');\n",
              "          docLink.innerHTML = docLinkHtml;\n",
              "          element.appendChild(docLink);\n",
              "        }\n",
              "      </script>\n",
              "    </div>\n",
              "  </div>\n",
              "  "
            ]
          },
          "metadata": {},
          "execution_count": 143
        }
      ]
    },
    {
      "cell_type": "code",
      "source": [
        "perm_importance = permutation_importance(svc, X_test, y_test)\n"
      ],
      "metadata": {
        "id": "_D-MJHG_xTnb"
      },
      "execution_count": null,
      "outputs": []
    },
    {
      "cell_type": "code",
      "source": [
        "perm_importance"
      ],
      "metadata": {
        "colab": {
          "base_uri": "https://localhost:8080/"
        },
        "id": "hA9cFhE3xsXR",
        "outputId": "92bb45dd-c85e-4890-edcb-851ef5b5003e"
      },
      "execution_count": null,
      "outputs": [
        {
          "output_type": "execute_result",
          "data": {
            "text/plain": [
              "{'importances_mean': array([0.04285714, 0.04285714, 0.04253968, 0.04190476, 0.04190476,\n",
              "        0.04222222, 0.04190476, 0.0415873 , 0.04222222, 0.04253968,\n",
              "        0.04222222, 0.04285714, 0.04222222, 0.04190476, 0.04222222,\n",
              "        0.04222222, 0.04222222, 0.04126984, 0.04222222, 0.04095238,\n",
              "        0.04222222, 0.04190476, 0.04190476, 0.04190476, 0.04285714,\n",
              "        0.04190476, 0.04253968, 0.0415873 , 0.04222222, 0.04253968,\n",
              "        0.04126984, 0.04063492, 0.0415873 , 0.04095238, 0.0415873 ,\n",
              "        0.04253968, 0.0415873 , 0.04190476, 0.04      , 0.04253968,\n",
              "        0.04190476, 0.04126984, 0.0415873 , 0.04063492, 0.04031746,\n",
              "        0.0415873 , 0.04126984, 0.04126984, 0.04126984, 0.04095238]),\n",
              " 'importances_std': array([0.        , 0.        , 0.00063492, 0.00190476, 0.00126984,\n",
              "        0.00077762, 0.00126984, 0.00118783, 0.00077762, 0.00063492,\n",
              "        0.00126984, 0.        , 0.00126984, 0.00126984, 0.00077762,\n",
              "        0.00077762, 0.00126984, 0.0010039 , 0.00077762, 0.0018511 ,\n",
              "        0.00126984, 0.00126984, 0.00077762, 0.00077762, 0.        ,\n",
              "        0.00126984, 0.00063492, 0.00118783, 0.00077762, 0.00063492,\n",
              "        0.0010039 , 0.00126984, 0.00063492, 0.00118783, 0.00118783,\n",
              "        0.00063492, 0.00155523, 0.00126984, 0.00155523, 0.00063492,\n",
              "        0.00126984, 0.00141973, 0.00118783, 0.00161874, 0.00077762,\n",
              "        0.00118783, 0.0020078 , 0.0010039 , 0.        , 0.00118783]),\n",
              " 'importances': array([[0.04285714, 0.04285714, 0.04285714, 0.04285714, 0.04285714],\n",
              "        [0.04285714, 0.04285714, 0.04285714, 0.04285714, 0.04285714],\n",
              "        [0.04285714, 0.04285714, 0.04285714, 0.04126984, 0.04285714],\n",
              "        [0.04285714, 0.04285714, 0.03809524, 0.04285714, 0.04285714],\n",
              "        [0.04285714, 0.04285714, 0.04285714, 0.04126984, 0.03968254],\n",
              "        [0.04126984, 0.04285714, 0.04285714, 0.04126984, 0.04285714],\n",
              "        [0.04285714, 0.04285714, 0.04285714, 0.04126984, 0.03968254],\n",
              "        [0.03968254, 0.04285714, 0.04285714, 0.04126984, 0.04126984],\n",
              "        [0.04285714, 0.04126984, 0.04285714, 0.04285714, 0.04126984],\n",
              "        [0.04126984, 0.04285714, 0.04285714, 0.04285714, 0.04285714],\n",
              "        [0.04285714, 0.03968254, 0.04285714, 0.04285714, 0.04285714],\n",
              "        [0.04285714, 0.04285714, 0.04285714, 0.04285714, 0.04285714],\n",
              "        [0.04285714, 0.04285714, 0.04285714, 0.04285714, 0.03968254],\n",
              "        [0.04285714, 0.04285714, 0.04126984, 0.04285714, 0.03968254],\n",
              "        [0.04285714, 0.04126984, 0.04126984, 0.04285714, 0.04285714],\n",
              "        [0.04126984, 0.04285714, 0.04285714, 0.04285714, 0.04126984],\n",
              "        [0.04285714, 0.04285714, 0.04285714, 0.03968254, 0.04285714],\n",
              "        [0.04285714, 0.04126984, 0.03968254, 0.04126984, 0.04126984],\n",
              "        [0.04126984, 0.04285714, 0.04126984, 0.04285714, 0.04285714],\n",
              "        [0.04285714, 0.04126984, 0.03809524, 0.03968254, 0.04285714],\n",
              "        [0.04285714, 0.04285714, 0.03968254, 0.04285714, 0.04285714],\n",
              "        [0.04285714, 0.04285714, 0.04126984, 0.04285714, 0.03968254],\n",
              "        [0.04285714, 0.04126984, 0.04126984, 0.04285714, 0.04126984],\n",
              "        [0.04126984, 0.04126984, 0.04126984, 0.04285714, 0.04285714],\n",
              "        [0.04285714, 0.04285714, 0.04285714, 0.04285714, 0.04285714],\n",
              "        [0.04285714, 0.03968254, 0.04285714, 0.04285714, 0.04126984],\n",
              "        [0.04285714, 0.04285714, 0.04126984, 0.04285714, 0.04285714],\n",
              "        [0.04126984, 0.04126984, 0.03968254, 0.04285714, 0.04285714],\n",
              "        [0.04126984, 0.04126984, 0.04285714, 0.04285714, 0.04285714],\n",
              "        [0.04285714, 0.04285714, 0.04285714, 0.04126984, 0.04285714],\n",
              "        [0.04126984, 0.03968254, 0.04126984, 0.04126984, 0.04285714],\n",
              "        [0.03968254, 0.04285714, 0.03968254, 0.03968254, 0.04126984],\n",
              "        [0.04126984, 0.04126984, 0.04285714, 0.04126984, 0.04126984],\n",
              "        [0.04126984, 0.04126984, 0.04285714, 0.03968254, 0.03968254],\n",
              "        [0.04285714, 0.04126984, 0.03968254, 0.04285714, 0.04126984],\n",
              "        [0.04285714, 0.04126984, 0.04285714, 0.04285714, 0.04285714],\n",
              "        [0.03968254, 0.04285714, 0.04285714, 0.04285714, 0.03968254],\n",
              "        [0.04285714, 0.03968254, 0.04285714, 0.04126984, 0.04285714],\n",
              "        [0.03809524, 0.04126984, 0.04126984, 0.04126984, 0.03809524],\n",
              "        [0.04285714, 0.04285714, 0.04285714, 0.04126984, 0.04285714],\n",
              "        [0.03968254, 0.04126984, 0.04285714, 0.04285714, 0.04285714],\n",
              "        [0.04285714, 0.03968254, 0.04126984, 0.03968254, 0.04285714],\n",
              "        [0.03968254, 0.04126984, 0.04126984, 0.04285714, 0.04285714],\n",
              "        [0.03968254, 0.04126984, 0.04126984, 0.03809524, 0.04285714],\n",
              "        [0.04126984, 0.03968254, 0.03968254, 0.03968254, 0.04126984],\n",
              "        [0.04285714, 0.04126984, 0.03968254, 0.04285714, 0.04126984],\n",
              "        [0.04285714, 0.04285714, 0.03968254, 0.04285714, 0.03809524],\n",
              "        [0.04126984, 0.04126984, 0.04285714, 0.03968254, 0.04126984],\n",
              "        [0.04126984, 0.04126984, 0.04126984, 0.04126984, 0.04126984],\n",
              "        [0.04126984, 0.04126984, 0.03968254, 0.03968254, 0.04285714]])}"
            ]
          },
          "metadata": {},
          "execution_count": 145
        }
      ]
    },
    {
      "cell_type": "markdown",
      "source": [
        "# Random Forest"
      ],
      "metadata": {
        "id": "fjkhV5nVxydg"
      }
    },
    {
      "cell_type": "code",
      "source": [
        "param_dist = {'n_estimators': randint(50,500),\n",
        "              'max_depth': randint(1,20)}\n",
        "\n",
        "# Create a random forest classifier\n",
        "rf = RandomForestClassifier()\n",
        "\n",
        "# Use random search to find the best hyperparameters\n",
        "rand_search = RandomizedSearchCV(rf, \n",
        "                                 param_distributions = param_dist, \n",
        "                                 n_iter=5, \n",
        "                                 cv=5)\n",
        "\n",
        "# Fit the random search object to the data\n",
        "rand_search.fit(X_train, y_train)\n"
      ],
      "metadata": {
        "colab": {
          "base_uri": "https://localhost:8080/",
          "height": 116
        },
        "id": "lWXHIEjextki",
        "outputId": "1c1e9753-b578-4abe-b026-bdccefa936bf"
      },
      "execution_count": null,
      "outputs": [
        {
          "output_type": "execute_result",
          "data": {
            "text/plain": [
              "RandomizedSearchCV(cv=5, estimator=RandomForestClassifier(), n_iter=5,\n",
              "                   param_distributions={'max_depth': <scipy.stats._distn_infrastructure.rv_discrete_frozen object at 0x7f98a4a22b00>,\n",
              "                                        'n_estimators': <scipy.stats._distn_infrastructure.rv_discrete_frozen object at 0x7f98a4a21a80>})"
            ],
            "text/html": [
              "<style>#sk-container-id-14 {color: black;background-color: white;}#sk-container-id-14 pre{padding: 0;}#sk-container-id-14 div.sk-toggleable {background-color: white;}#sk-container-id-14 label.sk-toggleable__label {cursor: pointer;display: block;width: 100%;margin-bottom: 0;padding: 0.3em;box-sizing: border-box;text-align: center;}#sk-container-id-14 label.sk-toggleable__label-arrow:before {content: \"▸\";float: left;margin-right: 0.25em;color: #696969;}#sk-container-id-14 label.sk-toggleable__label-arrow:hover:before {color: black;}#sk-container-id-14 div.sk-estimator:hover label.sk-toggleable__label-arrow:before {color: black;}#sk-container-id-14 div.sk-toggleable__content {max-height: 0;max-width: 0;overflow: hidden;text-align: left;background-color: #f0f8ff;}#sk-container-id-14 div.sk-toggleable__content pre {margin: 0.2em;color: black;border-radius: 0.25em;background-color: #f0f8ff;}#sk-container-id-14 input.sk-toggleable__control:checked~div.sk-toggleable__content {max-height: 200px;max-width: 100%;overflow: auto;}#sk-container-id-14 input.sk-toggleable__control:checked~label.sk-toggleable__label-arrow:before {content: \"▾\";}#sk-container-id-14 div.sk-estimator input.sk-toggleable__control:checked~label.sk-toggleable__label {background-color: #d4ebff;}#sk-container-id-14 div.sk-label input.sk-toggleable__control:checked~label.sk-toggleable__label {background-color: #d4ebff;}#sk-container-id-14 input.sk-hidden--visually {border: 0;clip: rect(1px 1px 1px 1px);clip: rect(1px, 1px, 1px, 1px);height: 1px;margin: -1px;overflow: hidden;padding: 0;position: absolute;width: 1px;}#sk-container-id-14 div.sk-estimator {font-family: monospace;background-color: #f0f8ff;border: 1px dotted black;border-radius: 0.25em;box-sizing: border-box;margin-bottom: 0.5em;}#sk-container-id-14 div.sk-estimator:hover {background-color: #d4ebff;}#sk-container-id-14 div.sk-parallel-item::after {content: \"\";width: 100%;border-bottom: 1px solid gray;flex-grow: 1;}#sk-container-id-14 div.sk-label:hover label.sk-toggleable__label {background-color: #d4ebff;}#sk-container-id-14 div.sk-serial::before {content: \"\";position: absolute;border-left: 1px solid gray;box-sizing: border-box;top: 0;bottom: 0;left: 50%;z-index: 0;}#sk-container-id-14 div.sk-serial {display: flex;flex-direction: column;align-items: center;background-color: white;padding-right: 0.2em;padding-left: 0.2em;position: relative;}#sk-container-id-14 div.sk-item {position: relative;z-index: 1;}#sk-container-id-14 div.sk-parallel {display: flex;align-items: stretch;justify-content: center;background-color: white;position: relative;}#sk-container-id-14 div.sk-item::before, #sk-container-id-14 div.sk-parallel-item::before {content: \"\";position: absolute;border-left: 1px solid gray;box-sizing: border-box;top: 0;bottom: 0;left: 50%;z-index: -1;}#sk-container-id-14 div.sk-parallel-item {display: flex;flex-direction: column;z-index: 1;position: relative;background-color: white;}#sk-container-id-14 div.sk-parallel-item:first-child::after {align-self: flex-end;width: 50%;}#sk-container-id-14 div.sk-parallel-item:last-child::after {align-self: flex-start;width: 50%;}#sk-container-id-14 div.sk-parallel-item:only-child::after {width: 0;}#sk-container-id-14 div.sk-dashed-wrapped {border: 1px dashed gray;margin: 0 0.4em 0.5em 0.4em;box-sizing: border-box;padding-bottom: 0.4em;background-color: white;}#sk-container-id-14 div.sk-label label {font-family: monospace;font-weight: bold;display: inline-block;line-height: 1.2em;}#sk-container-id-14 div.sk-label-container {text-align: center;}#sk-container-id-14 div.sk-container {/* jupyter's `normalize.less` sets `[hidden] { display: none; }` but bootstrap.min.css set `[hidden] { display: none !important; }` so we also need the `!important` here to be able to override the default hidden behavior on the sphinx rendered scikit-learn.org. See: https://github.com/scikit-learn/scikit-learn/issues/21755 */display: inline-block !important;position: relative;}#sk-container-id-14 div.sk-text-repr-fallback {display: none;}</style><div id=\"sk-container-id-14\" class=\"sk-top-container\"><div class=\"sk-text-repr-fallback\"><pre>RandomizedSearchCV(cv=5, estimator=RandomForestClassifier(), n_iter=5,\n",
              "                   param_distributions={&#x27;max_depth&#x27;: &lt;scipy.stats._distn_infrastructure.rv_discrete_frozen object at 0x7f98a4a22b00&gt;,\n",
              "                                        &#x27;n_estimators&#x27;: &lt;scipy.stats._distn_infrastructure.rv_discrete_frozen object at 0x7f98a4a21a80&gt;})</pre><b>In a Jupyter environment, please rerun this cell to show the HTML representation or trust the notebook. <br />On GitHub, the HTML representation is unable to render, please try loading this page with nbviewer.org.</b></div><div class=\"sk-container\" hidden><div class=\"sk-item sk-dashed-wrapped\"><div class=\"sk-label-container\"><div class=\"sk-label sk-toggleable\"><input class=\"sk-toggleable__control sk-hidden--visually\" id=\"sk-estimator-id-14\" type=\"checkbox\" ><label for=\"sk-estimator-id-14\" class=\"sk-toggleable__label sk-toggleable__label-arrow\">RandomizedSearchCV</label><div class=\"sk-toggleable__content\"><pre>RandomizedSearchCV(cv=5, estimator=RandomForestClassifier(), n_iter=5,\n",
              "                   param_distributions={&#x27;max_depth&#x27;: &lt;scipy.stats._distn_infrastructure.rv_discrete_frozen object at 0x7f98a4a22b00&gt;,\n",
              "                                        &#x27;n_estimators&#x27;: &lt;scipy.stats._distn_infrastructure.rv_discrete_frozen object at 0x7f98a4a21a80&gt;})</pre></div></div></div><div class=\"sk-parallel\"><div class=\"sk-parallel-item\"><div class=\"sk-item\"><div class=\"sk-label-container\"><div class=\"sk-label sk-toggleable\"><input class=\"sk-toggleable__control sk-hidden--visually\" id=\"sk-estimator-id-15\" type=\"checkbox\" ><label for=\"sk-estimator-id-15\" class=\"sk-toggleable__label sk-toggleable__label-arrow\">estimator: RandomForestClassifier</label><div class=\"sk-toggleable__content\"><pre>RandomForestClassifier()</pre></div></div></div><div class=\"sk-serial\"><div class=\"sk-item\"><div class=\"sk-estimator sk-toggleable\"><input class=\"sk-toggleable__control sk-hidden--visually\" id=\"sk-estimator-id-16\" type=\"checkbox\" ><label for=\"sk-estimator-id-16\" class=\"sk-toggleable__label sk-toggleable__label-arrow\">RandomForestClassifier</label><div class=\"sk-toggleable__content\"><pre>RandomForestClassifier()</pre></div></div></div></div></div></div></div></div></div></div>"
            ]
          },
          "metadata": {},
          "execution_count": 146
        }
      ]
    },
    {
      "cell_type": "code",
      "source": [
        "score = rand_search.score(X_test,y_test)"
      ],
      "metadata": {
        "id": "2MBgrSo8ygKY"
      },
      "execution_count": null,
      "outputs": []
    },
    {
      "cell_type": "code",
      "source": [
        "score_t = rand_search.score(X_train,y_train)"
      ],
      "metadata": {
        "id": "4vQgFhUQylYk"
      },
      "execution_count": null,
      "outputs": []
    },
    {
      "cell_type": "code",
      "source": [
        "score_t,score"
      ],
      "metadata": {
        "colab": {
          "base_uri": "https://localhost:8080/"
        },
        "id": "skQdQZPMysaI",
        "outputId": "be86fe52-c0d5-48b0-9ac4-42fc1a2e02db"
      },
      "execution_count": null,
      "outputs": [
        {
          "output_type": "execute_result",
          "data": {
            "text/plain": [
              "(0.9980392156862745, 0.6238095238095238)"
            ]
          },
          "metadata": {},
          "execution_count": 149
        }
      ]
    },
    {
      "cell_type": "markdown",
      "source": [
        "# Logistic Regression"
      ],
      "metadata": {
        "id": "FMa70IiNy0sD"
      }
    },
    {
      "cell_type": "code",
      "source": [
        "logreg = LogisticRegression(random_state=16)\n",
        "\n",
        "# fit the model with data\n",
        "logreg.fit(X_train, y_train)\n"
      ],
      "metadata": {
        "colab": {
          "base_uri": "https://localhost:8080/",
          "height": 213
        },
        "id": "hvEGE0j-yuGJ",
        "outputId": "1ffd302f-d640-45c7-b8f4-c785b0668211"
      },
      "execution_count": null,
      "outputs": [
        {
          "output_type": "stream",
          "name": "stderr",
          "text": [
            "/usr/local/lib/python3.10/dist-packages/sklearn/linear_model/_logistic.py:458: ConvergenceWarning: lbfgs failed to converge (status=1):\n",
            "STOP: TOTAL NO. of ITERATIONS REACHED LIMIT.\n",
            "\n",
            "Increase the number of iterations (max_iter) or scale the data as shown in:\n",
            "    https://scikit-learn.org/stable/modules/preprocessing.html\n",
            "Please also refer to the documentation for alternative solver options:\n",
            "    https://scikit-learn.org/stable/modules/linear_model.html#logistic-regression\n",
            "  n_iter_i = _check_optimize_result(\n"
          ]
        },
        {
          "output_type": "execute_result",
          "data": {
            "text/plain": [
              "LogisticRegression(random_state=16)"
            ],
            "text/html": [
              "<style>#sk-container-id-15 {color: black;background-color: white;}#sk-container-id-15 pre{padding: 0;}#sk-container-id-15 div.sk-toggleable {background-color: white;}#sk-container-id-15 label.sk-toggleable__label {cursor: pointer;display: block;width: 100%;margin-bottom: 0;padding: 0.3em;box-sizing: border-box;text-align: center;}#sk-container-id-15 label.sk-toggleable__label-arrow:before {content: \"▸\";float: left;margin-right: 0.25em;color: #696969;}#sk-container-id-15 label.sk-toggleable__label-arrow:hover:before {color: black;}#sk-container-id-15 div.sk-estimator:hover label.sk-toggleable__label-arrow:before {color: black;}#sk-container-id-15 div.sk-toggleable__content {max-height: 0;max-width: 0;overflow: hidden;text-align: left;background-color: #f0f8ff;}#sk-container-id-15 div.sk-toggleable__content pre {margin: 0.2em;color: black;border-radius: 0.25em;background-color: #f0f8ff;}#sk-container-id-15 input.sk-toggleable__control:checked~div.sk-toggleable__content {max-height: 200px;max-width: 100%;overflow: auto;}#sk-container-id-15 input.sk-toggleable__control:checked~label.sk-toggleable__label-arrow:before {content: \"▾\";}#sk-container-id-15 div.sk-estimator input.sk-toggleable__control:checked~label.sk-toggleable__label {background-color: #d4ebff;}#sk-container-id-15 div.sk-label input.sk-toggleable__control:checked~label.sk-toggleable__label {background-color: #d4ebff;}#sk-container-id-15 input.sk-hidden--visually {border: 0;clip: rect(1px 1px 1px 1px);clip: rect(1px, 1px, 1px, 1px);height: 1px;margin: -1px;overflow: hidden;padding: 0;position: absolute;width: 1px;}#sk-container-id-15 div.sk-estimator {font-family: monospace;background-color: #f0f8ff;border: 1px dotted black;border-radius: 0.25em;box-sizing: border-box;margin-bottom: 0.5em;}#sk-container-id-15 div.sk-estimator:hover {background-color: #d4ebff;}#sk-container-id-15 div.sk-parallel-item::after {content: \"\";width: 100%;border-bottom: 1px solid gray;flex-grow: 1;}#sk-container-id-15 div.sk-label:hover label.sk-toggleable__label {background-color: #d4ebff;}#sk-container-id-15 div.sk-serial::before {content: \"\";position: absolute;border-left: 1px solid gray;box-sizing: border-box;top: 0;bottom: 0;left: 50%;z-index: 0;}#sk-container-id-15 div.sk-serial {display: flex;flex-direction: column;align-items: center;background-color: white;padding-right: 0.2em;padding-left: 0.2em;position: relative;}#sk-container-id-15 div.sk-item {position: relative;z-index: 1;}#sk-container-id-15 div.sk-parallel {display: flex;align-items: stretch;justify-content: center;background-color: white;position: relative;}#sk-container-id-15 div.sk-item::before, #sk-container-id-15 div.sk-parallel-item::before {content: \"\";position: absolute;border-left: 1px solid gray;box-sizing: border-box;top: 0;bottom: 0;left: 50%;z-index: -1;}#sk-container-id-15 div.sk-parallel-item {display: flex;flex-direction: column;z-index: 1;position: relative;background-color: white;}#sk-container-id-15 div.sk-parallel-item:first-child::after {align-self: flex-end;width: 50%;}#sk-container-id-15 div.sk-parallel-item:last-child::after {align-self: flex-start;width: 50%;}#sk-container-id-15 div.sk-parallel-item:only-child::after {width: 0;}#sk-container-id-15 div.sk-dashed-wrapped {border: 1px dashed gray;margin: 0 0.4em 0.5em 0.4em;box-sizing: border-box;padding-bottom: 0.4em;background-color: white;}#sk-container-id-15 div.sk-label label {font-family: monospace;font-weight: bold;display: inline-block;line-height: 1.2em;}#sk-container-id-15 div.sk-label-container {text-align: center;}#sk-container-id-15 div.sk-container {/* jupyter's `normalize.less` sets `[hidden] { display: none; }` but bootstrap.min.css set `[hidden] { display: none !important; }` so we also need the `!important` here to be able to override the default hidden behavior on the sphinx rendered scikit-learn.org. See: https://github.com/scikit-learn/scikit-learn/issues/21755 */display: inline-block !important;position: relative;}#sk-container-id-15 div.sk-text-repr-fallback {display: none;}</style><div id=\"sk-container-id-15\" class=\"sk-top-container\"><div class=\"sk-text-repr-fallback\"><pre>LogisticRegression(random_state=16)</pre><b>In a Jupyter environment, please rerun this cell to show the HTML representation or trust the notebook. <br />On GitHub, the HTML representation is unable to render, please try loading this page with nbviewer.org.</b></div><div class=\"sk-container\" hidden><div class=\"sk-item\"><div class=\"sk-estimator sk-toggleable\"><input class=\"sk-toggleable__control sk-hidden--visually\" id=\"sk-estimator-id-17\" type=\"checkbox\" checked><label for=\"sk-estimator-id-17\" class=\"sk-toggleable__label sk-toggleable__label-arrow\">LogisticRegression</label><div class=\"sk-toggleable__content\"><pre>LogisticRegression(random_state=16)</pre></div></div></div></div></div>"
            ]
          },
          "metadata": {},
          "execution_count": 150
        }
      ]
    },
    {
      "cell_type": "code",
      "source": [
        "score = logreg.score(X_test,y_test)"
      ],
      "metadata": {
        "id": "gwidClb6y-kD"
      },
      "execution_count": null,
      "outputs": []
    },
    {
      "cell_type": "code",
      "source": [
        "score_t = logreg.score(X_train,y_train)"
      ],
      "metadata": {
        "id": "eFEQRNRRzCBu"
      },
      "execution_count": null,
      "outputs": []
    },
    {
      "cell_type": "code",
      "source": [
        "score_t,score"
      ],
      "metadata": {
        "colab": {
          "base_uri": "https://localhost:8080/"
        },
        "id": "LArwcooozIsv",
        "outputId": "89989dc3-45f3-4411-db7d-f81572332058"
      },
      "execution_count": null,
      "outputs": [
        {
          "output_type": "execute_result",
          "data": {
            "text/plain": [
              "(0.6291316526610644, 0.5492063492063493)"
            ]
          },
          "metadata": {},
          "execution_count": 153
        }
      ]
    }
  ]
}