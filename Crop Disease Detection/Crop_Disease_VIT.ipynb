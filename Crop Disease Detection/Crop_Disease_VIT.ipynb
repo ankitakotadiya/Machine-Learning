{
  "cells": [
    {
      "cell_type": "code",
      "execution_count": null,
      "metadata": {
        "colab": {
          "base_uri": "https://localhost:8080/"
        },
        "id": "yJRPHuSVNL2X",
        "outputId": "6efb7fe8-2c5c-4846-a560-716bfc361ee0"
      },
      "outputs": [
        {
          "output_type": "stream",
          "name": "stdout",
          "text": [
            "Looking in indexes: https://pypi.org/simple, https://us-python.pkg.dev/colab-wheels/public/simple/\n",
            "Collecting tensorflow-addons\n",
            "  Downloading tensorflow_addons-0.20.0-cp310-cp310-manylinux_2_17_x86_64.manylinux2014_x86_64.whl (591 kB)\n",
            "\u001b[2K     \u001b[90m━━━━━━━━━━━━━━━━━━━━━━━━━━━━━━━━━━━━━━\u001b[0m \u001b[32m591.0/591.0 kB\u001b[0m \u001b[31m34.3 MB/s\u001b[0m eta \u001b[36m0:00:00\u001b[0m\n",
            "\u001b[?25hRequirement already satisfied: packaging in /usr/local/lib/python3.10/dist-packages (from tensorflow-addons) (23.1)\n",
            "Collecting typeguard<3.0.0,>=2.7 (from tensorflow-addons)\n",
            "  Downloading typeguard-2.13.3-py3-none-any.whl (17 kB)\n",
            "Installing collected packages: typeguard, tensorflow-addons\n",
            "Successfully installed tensorflow-addons-0.20.0 typeguard-2.13.3\n"
          ]
        }
      ],
      "source": [
        "pip install -U tensorflow-addons"
      ]
    },
    {
      "cell_type": "code",
      "execution_count": null,
      "metadata": {
        "colab": {
          "base_uri": "https://localhost:8080/"
        },
        "id": "xwbpxxKBycuE",
        "outputId": "f3f41f92-a3b2-49e9-bcbe-a1fc69a6a110"
      },
      "outputs": [
        {
          "output_type": "stream",
          "name": "stderr",
          "text": [
            "/usr/local/lib/python3.10/dist-packages/tensorflow_addons/utils/tfa_eol_msg.py:23: UserWarning: \n",
            "\n",
            "TensorFlow Addons (TFA) has ended development and introduction of new features.\n",
            "TFA has entered a minimal maintenance and release mode until a planned end of life in May 2024.\n",
            "Please modify downstream libraries to take dependencies from other repositories in our TensorFlow community (e.g. Keras, Keras-CV, and Keras-NLP). \n",
            "\n",
            "For more information see: https://github.com/tensorflow/addons/issues/2807 \n",
            "\n",
            "  warnings.warn(\n"
          ]
        }
      ],
      "source": [
        "import numpy as np\n",
        "import tensorflow as tf\n",
        "from tensorflow import keras\n",
        "from tensorflow.keras import layers\n",
        "import tensorflow_addons as tfa\n",
        "import os\n",
        "from os import listdir\n",
        "import cv2\n",
        "from tensorflow.keras.preprocessing.image import img_to_array\n",
        "from skimage.transform import resize\n",
        "from skimage.io import imread\n",
        "import pandas as pd\n",
        "from sklearn.model_selection import train_test_split"
      ]
    },
    {
      "cell_type": "code",
      "execution_count": null,
      "metadata": {
        "id": "h7JOjfjuycxX"
      },
      "outputs": [],
      "source": [
        "directory_root = '/content/drive/MyDrive/Crop Disease/Image Data base'\n",
        "categories = listdir(directory_root)\n"
      ]
    },
    {
      "cell_type": "code",
      "execution_count": null,
      "metadata": {
        "colab": {
          "base_uri": "https://localhost:8080/"
        },
        "id": "vgZ98DD_3uta",
        "outputId": "72ceffab-6c50-481b-e477-b6c5528423ca"
      },
      "outputs": [
        {
          "output_type": "execute_result",
          "data": {
            "text/plain": [
              "29"
            ]
          },
          "metadata": {},
          "execution_count": 4
        }
      ],
      "source": [
        "len(categories)"
      ]
    },
    {
      "cell_type": "code",
      "execution_count": null,
      "metadata": {
        "id": "TLGjBN9Gyc0c"
      },
      "outputs": [],
      "source": [
        "num_classes = 23\n",
        "input_shape = (150,150,3)"
      ]
    },
    {
      "cell_type": "code",
      "execution_count": null,
      "metadata": {
        "colab": {
          "base_uri": "https://localhost:8080/"
        },
        "id": "61iu_mECRq8e",
        "outputId": "410c1e6d-e119-4950-eaeb-e14aa88d785a"
      },
      "outputs": [
        {
          "output_type": "execute_result",
          "data": {
            "text/plain": [
              "23"
            ]
          },
          "metadata": {},
          "execution_count": 5
        }
      ],
      "source": [
        "num_classes"
      ]
    },
    {
      "cell_type": "code",
      "execution_count": null,
      "metadata": {
        "colab": {
          "base_uri": "https://localhost:8080/"
        },
        "id": "j-kzQaFI1hVS",
        "outputId": "41d7f9c1-d49e-47eb-a9a5-f79cbcc13ffa"
      },
      "outputs": [
        {
          "output_type": "stream",
          "name": "stdout",
          "text": [
            "loading... category : algal leaf in tea\n",
            "loading... category : anthracnose in tea\n",
            "loading... category : Apple Apple scab\n",
            "loading... category : Apple Black rot\n",
            "loading... category : Apple Cedar apple rust\n",
            "loading... category : Bacterial leaf blight in rice leaf\n",
            "loading... category : bird eye spot in tea\n",
            "loading... category : Blight in corn Leaf\n",
            "loading... category : brown blight in tea\n",
            "loading... category : Brown spot in rice leaf\n",
            "loading... category : cabbage looper\n",
            "loading... category : Cercospora leaf spot\n",
            "loading... category : Cherry (including sour) Powdery mildew\n",
            "loading... category : Common Rust in corn Leaf\n",
            "loading... category : Grape Black rot\n",
            "loading... category : Gray Leaf Spot in corn Leaf\n",
            "loading... category : lemon canker\n",
            "loading... category : Nitrogen deficiency in plant\n",
            "loading... category : potassium deficiency in plant\n",
            "loading... category : Potato Early blight\n",
            "loading... category : Potato Late blight\n",
            "loading... category : Sogatella rice\n",
            "loading... category : Tomato Bacterial spot\n",
            "loading... category : Tomato Early blight\n",
            "loading... category : Tomato Septoria leaf spot\n",
            "loading... category : Tomato Spider mites Two spotted spider mite\n",
            "loading... category : Tomato Target Spot\n",
            "loading... category : Waterlogging in plant\n"
          ]
        }
      ],
      "source": [
        "img_data_arr=[] #input array\n",
        "target_arr=[] #output array\n",
        "file_path = []\n",
        "label_arr = []\n",
        "\n",
        "for i,plant_folder in enumerate(categories):\n",
        "    \n",
        "    if plant_folder != 'Healthy':\n",
        "      print(f'loading... category : {plant_folder}')\n",
        "      # path=os.path.join(directory_root,i)\n",
        "      plant_disease_folder_list = listdir(f\"{directory_root}/{plant_folder}\")\n",
        "\n",
        "      if len(plant_disease_folder_list) >= 150:\n",
        "        for img in plant_disease_folder_list[:150]:\n",
        "            # print(img)\n",
        "            directory = f'{directory_root}/{plant_folder}/{img}'\n",
        "            img_array=imread(directory)\n",
        "            img_resized=resize(img_array,(150,150,3))\n",
        "            img_data_arr.append(img_resized)\n",
        "            target_arr.append(i)\n",
        "            label_arr.append(plant_folder)\n",
        "            file_path.append(directory)\n",
        "    # print(f'loaded category:{plant_folder} successfully')"
      ]
    },
    {
      "cell_type": "code",
      "execution_count": null,
      "metadata": {
        "colab": {
          "base_uri": "https://localhost:8080/"
        },
        "id": "pY_VZx9mO8m7",
        "outputId": "d03687f9-77d2-4188-b9f1-2dc4587b5c4b"
      },
      "outputs": [
        {
          "data": {
            "text/plain": [
              "26"
            ]
          },
          "execution_count": 30,
          "metadata": {},
          "output_type": "execute_result"
        }
      ],
      "source": []
    },
    {
      "cell_type": "code",
      "execution_count": null,
      "metadata": {
        "colab": {
          "base_uri": "https://localhost:8080/"
        },
        "id": "T4TOc8P023Mh",
        "outputId": "af407b8d-0d6c-4798-f724-82b2ef265413"
      },
      "outputs": [
        {
          "output_type": "stream",
          "name": "stdout",
          "text": [
            "loading... category : Blueberry healthy\n"
          ]
        }
      ],
      "source": [
        "plant_folder = 'Healthy'\n",
        "plant_disease_folder_list = listdir(f\"{directory_root}/{plant_folder}\")\n",
        "\n",
        "  \n",
        "for h_folder in plant_disease_folder_list[1:2]:\n",
        "\n",
        "  print(f'loading... category : {h_folder}')\n",
        "  h_dir = listdir(f'{directory_root}/{plant_folder}/{h_folder}')\n",
        "\n",
        "  for image in h_dir[:150]:\n",
        "\n",
        "    image_directory = f'{directory_root}/{plant_folder}/{h_folder}/{image}'\n",
        "    img_array=imread(directory)\n",
        "    img_resized=resize(img_array,(150,150,3))\n",
        "    img_data_arr.append(img_resized)\n",
        "    target_arr.append(categories.index(plant_folder))\n",
        "    label_arr.append(plant_folder)\n",
        "    file_path.append(directory)"
      ]
    },
    {
      "cell_type": "code",
      "execution_count": null,
      "metadata": {
        "colab": {
          "base_uri": "https://localhost:8080/"
        },
        "id": "_Mu5pjlJ573H",
        "outputId": "952eefac-0566-4fd3-a9a0-013ba8582a24"
      },
      "outputs": [
        {
          "output_type": "execute_result",
          "data": {
            "text/plain": [
              "23"
            ]
          },
          "metadata": {},
          "execution_count": 8
        }
      ],
      "source": [
        "num_classes = len(set(label_arr))\n",
        "num_classes"
      ]
    },
    {
      "cell_type": "code",
      "execution_count": null,
      "metadata": {
        "id": "9JPjcNFh6KK4"
      },
      "outputs": [],
      "source": [
        "df = pd.DataFrame({'Labels':label_arr})"
      ]
    },
    {
      "cell_type": "code",
      "execution_count": null,
      "metadata": {
        "id": "8LRvLuUANHew"
      },
      "outputs": [],
      "source": [
        "df['Category'] = pd.factorize(df['Labels'], sort=False)[0]"
      ]
    },
    {
      "cell_type": "code",
      "execution_count": null,
      "metadata": {
        "colab": {
          "base_uri": "https://localhost:8080/",
          "height": 423
        },
        "id": "irDsBtIFNP3S",
        "outputId": "abc1cd3e-90dc-4637-835c-96be2eb0032a"
      },
      "outputs": [
        {
          "output_type": "execute_result",
          "data": {
            "text/plain": [
              "                 Labels  Category\n",
              "0     algal leaf in tea         0\n",
              "1     algal leaf in tea         0\n",
              "2     algal leaf in tea         0\n",
              "3     algal leaf in tea         0\n",
              "4     algal leaf in tea         0\n",
              "...                 ...       ...\n",
              "3445            Healthy        22\n",
              "3446            Healthy        22\n",
              "3447            Healthy        22\n",
              "3448            Healthy        22\n",
              "3449            Healthy        22\n",
              "\n",
              "[3450 rows x 2 columns]"
            ],
            "text/html": [
              "\n",
              "  <div id=\"df-67abce7f-6ead-4969-91e7-2454bad6473a\">\n",
              "    <div class=\"colab-df-container\">\n",
              "      <div>\n",
              "<style scoped>\n",
              "    .dataframe tbody tr th:only-of-type {\n",
              "        vertical-align: middle;\n",
              "    }\n",
              "\n",
              "    .dataframe tbody tr th {\n",
              "        vertical-align: top;\n",
              "    }\n",
              "\n",
              "    .dataframe thead th {\n",
              "        text-align: right;\n",
              "    }\n",
              "</style>\n",
              "<table border=\"1\" class=\"dataframe\">\n",
              "  <thead>\n",
              "    <tr style=\"text-align: right;\">\n",
              "      <th></th>\n",
              "      <th>Labels</th>\n",
              "      <th>Category</th>\n",
              "    </tr>\n",
              "  </thead>\n",
              "  <tbody>\n",
              "    <tr>\n",
              "      <th>0</th>\n",
              "      <td>algal leaf in tea</td>\n",
              "      <td>0</td>\n",
              "    </tr>\n",
              "    <tr>\n",
              "      <th>1</th>\n",
              "      <td>algal leaf in tea</td>\n",
              "      <td>0</td>\n",
              "    </tr>\n",
              "    <tr>\n",
              "      <th>2</th>\n",
              "      <td>algal leaf in tea</td>\n",
              "      <td>0</td>\n",
              "    </tr>\n",
              "    <tr>\n",
              "      <th>3</th>\n",
              "      <td>algal leaf in tea</td>\n",
              "      <td>0</td>\n",
              "    </tr>\n",
              "    <tr>\n",
              "      <th>4</th>\n",
              "      <td>algal leaf in tea</td>\n",
              "      <td>0</td>\n",
              "    </tr>\n",
              "    <tr>\n",
              "      <th>...</th>\n",
              "      <td>...</td>\n",
              "      <td>...</td>\n",
              "    </tr>\n",
              "    <tr>\n",
              "      <th>3445</th>\n",
              "      <td>Healthy</td>\n",
              "      <td>22</td>\n",
              "    </tr>\n",
              "    <tr>\n",
              "      <th>3446</th>\n",
              "      <td>Healthy</td>\n",
              "      <td>22</td>\n",
              "    </tr>\n",
              "    <tr>\n",
              "      <th>3447</th>\n",
              "      <td>Healthy</td>\n",
              "      <td>22</td>\n",
              "    </tr>\n",
              "    <tr>\n",
              "      <th>3448</th>\n",
              "      <td>Healthy</td>\n",
              "      <td>22</td>\n",
              "    </tr>\n",
              "    <tr>\n",
              "      <th>3449</th>\n",
              "      <td>Healthy</td>\n",
              "      <td>22</td>\n",
              "    </tr>\n",
              "  </tbody>\n",
              "</table>\n",
              "<p>3450 rows × 2 columns</p>\n",
              "</div>\n",
              "      <button class=\"colab-df-convert\" onclick=\"convertToInteractive('df-67abce7f-6ead-4969-91e7-2454bad6473a')\"\n",
              "              title=\"Convert this dataframe to an interactive table.\"\n",
              "              style=\"display:none;\">\n",
              "        \n",
              "  <svg xmlns=\"http://www.w3.org/2000/svg\" height=\"24px\"viewBox=\"0 0 24 24\"\n",
              "       width=\"24px\">\n",
              "    <path d=\"M0 0h24v24H0V0z\" fill=\"none\"/>\n",
              "    <path d=\"M18.56 5.44l.94 2.06.94-2.06 2.06-.94-2.06-.94-.94-2.06-.94 2.06-2.06.94zm-11 1L8.5 8.5l.94-2.06 2.06-.94-2.06-.94L8.5 2.5l-.94 2.06-2.06.94zm10 10l.94 2.06.94-2.06 2.06-.94-2.06-.94-.94-2.06-.94 2.06-2.06.94z\"/><path d=\"M17.41 7.96l-1.37-1.37c-.4-.4-.92-.59-1.43-.59-.52 0-1.04.2-1.43.59L10.3 9.45l-7.72 7.72c-.78.78-.78 2.05 0 2.83L4 21.41c.39.39.9.59 1.41.59.51 0 1.02-.2 1.41-.59l7.78-7.78 2.81-2.81c.8-.78.8-2.07 0-2.86zM5.41 20L4 18.59l7.72-7.72 1.47 1.35L5.41 20z\"/>\n",
              "  </svg>\n",
              "      </button>\n",
              "      \n",
              "  <style>\n",
              "    .colab-df-container {\n",
              "      display:flex;\n",
              "      flex-wrap:wrap;\n",
              "      gap: 12px;\n",
              "    }\n",
              "\n",
              "    .colab-df-convert {\n",
              "      background-color: #E8F0FE;\n",
              "      border: none;\n",
              "      border-radius: 50%;\n",
              "      cursor: pointer;\n",
              "      display: none;\n",
              "      fill: #1967D2;\n",
              "      height: 32px;\n",
              "      padding: 0 0 0 0;\n",
              "      width: 32px;\n",
              "    }\n",
              "\n",
              "    .colab-df-convert:hover {\n",
              "      background-color: #E2EBFA;\n",
              "      box-shadow: 0px 1px 2px rgba(60, 64, 67, 0.3), 0px 1px 3px 1px rgba(60, 64, 67, 0.15);\n",
              "      fill: #174EA6;\n",
              "    }\n",
              "\n",
              "    [theme=dark] .colab-df-convert {\n",
              "      background-color: #3B4455;\n",
              "      fill: #D2E3FC;\n",
              "    }\n",
              "\n",
              "    [theme=dark] .colab-df-convert:hover {\n",
              "      background-color: #434B5C;\n",
              "      box-shadow: 0px 1px 3px 1px rgba(0, 0, 0, 0.15);\n",
              "      filter: drop-shadow(0px 1px 2px rgba(0, 0, 0, 0.3));\n",
              "      fill: #FFFFFF;\n",
              "    }\n",
              "  </style>\n",
              "\n",
              "      <script>\n",
              "        const buttonEl =\n",
              "          document.querySelector('#df-67abce7f-6ead-4969-91e7-2454bad6473a button.colab-df-convert');\n",
              "        buttonEl.style.display =\n",
              "          google.colab.kernel.accessAllowed ? 'block' : 'none';\n",
              "\n",
              "        async function convertToInteractive(key) {\n",
              "          const element = document.querySelector('#df-67abce7f-6ead-4969-91e7-2454bad6473a');\n",
              "          const dataTable =\n",
              "            await google.colab.kernel.invokeFunction('convertToInteractive',\n",
              "                                                     [key], {});\n",
              "          if (!dataTable) return;\n",
              "\n",
              "          const docLinkHtml = 'Like what you see? Visit the ' +\n",
              "            '<a target=\"_blank\" href=https://colab.research.google.com/notebooks/data_table.ipynb>data table notebook</a>'\n",
              "            + ' to learn more about interactive tables.';\n",
              "          element.innerHTML = '';\n",
              "          dataTable['output_type'] = 'display_data';\n",
              "          await google.colab.output.renderOutput(dataTable, element);\n",
              "          const docLink = document.createElement('div');\n",
              "          docLink.innerHTML = docLinkHtml;\n",
              "          element.appendChild(docLink);\n",
              "        }\n",
              "      </script>\n",
              "    </div>\n",
              "  </div>\n",
              "  "
            ]
          },
          "metadata": {},
          "execution_count": 11
        }
      ],
      "source": [
        "df"
      ]
    },
    {
      "cell_type": "code",
      "execution_count": null,
      "metadata": {
        "colab": {
          "base_uri": "https://localhost:8080/"
        },
        "id": "aGIYZH-5peQv",
        "outputId": "34fb3499-1614-4760-8cf7-8bba538af135"
      },
      "outputs": [
        {
          "data": {
            "text/plain": [
              "1920"
            ]
          },
          "execution_count": 6,
          "metadata": {},
          "output_type": "execute_result"
        }
      ],
      "source": [
        "len(img_data_arr)"
      ]
    },
    {
      "cell_type": "code",
      "execution_count": null,
      "metadata": {
        "id": "d32ogaGlydLI"
      },
      "outputs": [],
      "source": [
        "x = np.array(img_data_arr)\n",
        "y = df.Category"
      ]
    },
    {
      "cell_type": "code",
      "execution_count": null,
      "metadata": {
        "id": "pkHQb3PNydN7"
      },
      "outputs": [],
      "source": [
        "x_train,x_test,y_train,y_test=train_test_split(x,y,train_size=0.80,random_state=77,stratify=y)\n",
        "# x_train,x_val,y_train,y_val=train_test_split(x_train_val,y_train_val,train_size=0.90,random_state=77,stratify=y_train_val)\n"
      ]
    },
    {
      "cell_type": "markdown",
      "source": [
        "# Hyperparameters"
      ],
      "metadata": {
        "id": "T2zi8EIuNEpZ"
      }
    },
    {
      "cell_type": "code",
      "execution_count": null,
      "metadata": {
        "id": "Y-0IxIQ9pi0P"
      },
      "outputs": [],
      "source": [
        "learning_rate = 0.001\n",
        "weight_decay = 0.0001\n",
        "batch_size = 256\n",
        "num_epochs = 100\n",
        "image_size = 150  # We'll resize input images to this size\n",
        "patch_size = 15  # Size of the patches to be extract from the input images\n",
        "num_patches = (image_size // patch_size) ** 2\n",
        "projection_dim = 64\n",
        "num_heads = 4\n",
        "transformer_units = [\n",
        "    projection_dim * 2,\n",
        "    projection_dim,\n",
        "]  # Size of the transformer layers\n",
        "transformer_layers = 8\n",
        "mlp_head_units = [2048, 1024] "
      ]
    },
    {
      "cell_type": "code",
      "execution_count": null,
      "metadata": {
        "colab": {
          "base_uri": "https://localhost:8080/"
        },
        "id": "-Mg4_LdJpisD",
        "outputId": "6d4c2fd6-099b-4304-ef45-0683033f3bb1"
      },
      "outputs": [
        {
          "output_type": "execute_result",
          "data": {
            "text/plain": [
              "2760"
            ]
          },
          "metadata": {},
          "execution_count": 14
        }
      ],
      "source": [
        "len(x_train)"
      ]
    },
    {
      "cell_type": "code",
      "execution_count": null,
      "metadata": {
        "id": "-Z0qJ2m-pi3q"
      },
      "outputs": [],
      "source": [
        "data_augmentation = keras.Sequential(\n",
        "    [\n",
        "        layers.Normalization(),\n",
        "        layers.Resizing(image_size, image_size),\n",
        "        layers.RandomFlip(\"horizontal\"),\n",
        "        layers.RandomRotation(factor=0.02),\n",
        "        layers.RandomZoom(\n",
        "            height_factor=0.2, width_factor=0.2\n",
        "        ),\n",
        "    ],\n",
        "    name=\"data_augmentation\",\n",
        ")\n",
        "# Compute the mean and the variance of the training data for normalization.\n",
        "data_augmentation.layers[0].adapt(x_train)"
      ]
    },
    {
      "cell_type": "code",
      "source": [],
      "metadata": {
        "id": "oYQXlRsXRgAa"
      },
      "execution_count": null,
      "outputs": []
    },
    {
      "cell_type": "code",
      "execution_count": null,
      "metadata": {
        "id": "YUtP3V7Jpi60"
      },
      "outputs": [],
      "source": [
        "def mlp(x, hidden_units, dropout_rate):\n",
        "    for units in hidden_units:\n",
        "        x = layers.Dense(units, activation=tf.nn.gelu)(x)\n",
        "        x = layers.Dropout(dropout_rate)(x)\n",
        "    return x"
      ]
    },
    {
      "cell_type": "code",
      "execution_count": null,
      "metadata": {
        "id": "PFiQa1Ks2bsS"
      },
      "outputs": [],
      "source": [
        "class Patches(layers.Layer):\n",
        "    def __init__(self, patch_size):\n",
        "        super().__init__()\n",
        "        self.patch_size = patch_size\n",
        "\n",
        "    def call(self, images):\n",
        "        batch_size = tf.shape(images)[0]\n",
        "        patches = tf.image.extract_patches(\n",
        "            images=images,\n",
        "            sizes=[1, self.patch_size, self.patch_size, 1],\n",
        "            strides=[1, self.patch_size, self.patch_size, 1],\n",
        "            rates=[1, 1, 1, 1],\n",
        "            padding=\"VALID\",\n",
        "        )\n",
        "        patch_dims = patches.shape[-1]\n",
        "        patches = tf.reshape(patches, [batch_size, -1, patch_dims])\n",
        "        return patches"
      ]
    },
    {
      "cell_type": "code",
      "execution_count": null,
      "metadata": {
        "colab": {
          "base_uri": "https://localhost:8080/",
          "height": 742
        },
        "id": "5wu_3vWp2b0D",
        "outputId": "66920c8f-bd7b-47a2-b703-1dd9387439df"
      },
      "outputs": [
        {
          "output_type": "stream",
          "name": "stdout",
          "text": [
            "Image size: 150 X 150\n",
            "Patch size: 15 X 15\n",
            "Patches per image: 100\n",
            "Elements per patch: 675\n"
          ]
        },
        {
          "output_type": "display_data",
          "data": {
            "text/plain": [
              "<Figure size 400x400 with 1 Axes>"
            ],
            "image/png": "[encoded data removed]"
          },
          "metadata": {}
        },
        {
          "output_type": "display_data",
          "data": {
            "text/plain": [
              "<Figure size 400x400 with 100 Axes>"
            ],
            "image/png": "[encoded data removed]"
          },
          "metadata": {}
        }
      ],
      "source": [
        "import matplotlib.pyplot as plt\n",
        "\n",
        "plt.figure(figsize=(4, 4))\n",
        "image = x_train[np.random.choice(range(x_train.shape[0]))]\n",
        "plt.imshow(image.astype(\"uint8\"))\n",
        "plt.axis(\"off\")\n",
        "\n",
        "resized_image = tf.image.resize(\n",
        "    tf.convert_to_tensor([image]), size=(image_size, image_size)\n",
        ")\n",
        "patches = Patches(patch_size)(resized_image)\n",
        "print(f\"Image size: {image_size} X {image_size}\")\n",
        "print(f\"Patch size: {patch_size} X {patch_size}\")\n",
        "print(f\"Patches per image: {patches.shape[1]}\")\n",
        "print(f\"Elements per patch: {patches.shape[-1]}\")\n",
        "\n",
        "n = int(np.sqrt(patches.shape[1]))\n",
        "plt.figure(figsize=(4, 4))\n",
        "for i, patch in enumerate(patches[0]):\n",
        "    ax = plt.subplot(n, n, i + 1)\n",
        "    patch_img = tf.reshape(patch, (patch_size, patch_size, 3))\n",
        "    plt.imshow(patch_img.numpy().astype(\"uint8\"))\n",
        "    plt.axis(\"off\")"
      ]
    },
    {
      "cell_type": "code",
      "source": [
        "num_classes"
      ],
      "metadata": {
        "colab": {
          "base_uri": "https://localhost:8080/"
        },
        "id": "d46uLX3k3ULr",
        "outputId": "269f5ba8-be12-44f6-db5a-edae553d6489"
      },
      "execution_count": null,
      "outputs": [
        {
          "output_type": "execute_result",
          "data": {
            "text/plain": [
              "23"
            ]
          },
          "metadata": {},
          "execution_count": 18
        }
      ]
    },
    {
      "cell_type": "markdown",
      "source": [
        "# ViT Model Construction"
      ],
      "metadata": {
        "id": "nN8E6HXfMw6j"
      }
    },
    {
      "cell_type": "code",
      "execution_count": null,
      "metadata": {
        "id": "cFPGl5yu2b5m"
      },
      "outputs": [],
      "source": [
        "def create_vit_classifier():\n",
        "    inputs = layers.Input(shape=input_shape)\n",
        "    # Augment data.\n",
        "    augmented = data_augmentation(inputs)\n",
        "    # Create patches.\n",
        "    patches = Patches(patch_size)(augmented)\n",
        "    # Encode patches.\n",
        "    encoded_patches = PatchEncoder(num_patches, projection_dim)(patches)\n",
        "\n",
        "    # Create multiple layers of the Transformer block.\n",
        "    for _ in range(transformer_layers):\n",
        "        # Layer normalization 1.\n",
        "        x1 = layers.LayerNormalization(epsilon=1e-6)(encoded_patches)\n",
        "        # Create a multi-head attention layer.\n",
        "        attention_output = layers.MultiHeadAttention(\n",
        "            num_heads=num_heads, key_dim=projection_dim, dropout=0.1\n",
        "        )(x1, x1)\n",
        "        # Skip connection 1.\n",
        "        x2 = layers.Add()([attention_output, encoded_patches])\n",
        "        # Layer normalization 2.\n",
        "        x3 = layers.LayerNormalization(epsilon=1e-6)(x2)\n",
        "        # MLP.\n",
        "        x3 = mlp(x3, hidden_units=transformer_units, dropout_rate=0.1)\n",
        "        # Skip connection 2.\n",
        "        encoded_patches = layers.Add()([x3, x2])\n",
        "\n",
        "    # Create a [batch_size, projection_dim] tensor.\n",
        "    representation = layers.LayerNormalization(epsilon=1e-6)(encoded_patches)\n",
        "    representation = layers.Flatten()(representation)\n",
        "    representation = layers.Dropout(0.5)(representation)\n",
        "    # Add MLP.\n",
        "    features = mlp(representation, hidden_units=mlp_head_units, dropout_rate=0.5)\n",
        "    # Classify outputs.\n",
        "    logits = layers.Dense(num_classes)(features)\n",
        "    # Create the Keras model.\n",
        "    model = keras.Model(inputs=inputs, outputs=logits)\n",
        "    return model"
      ]
    },
    {
      "cell_type": "code",
      "execution_count": null,
      "metadata": {
        "id": "apHHWc2_2b3F"
      },
      "outputs": [],
      "source": [
        "class PatchEncoder(layers.Layer):\n",
        "    def __init__(self, num_patches, projection_dim):\n",
        "        super().__init__()\n",
        "        self.num_patches = num_patches\n",
        "        self.projection = layers.Dense(units=projection_dim)\n",
        "        self.position_embedding = layers.Embedding(\n",
        "            input_dim=num_patches, output_dim=projection_dim\n",
        "        )\n",
        "\n",
        "    def call(self, patch):\n",
        "        positions = tf.range(start=0, limit=self.num_patches, delta=1)\n",
        "        encoded = self.projection(patch) + self.position_embedding(positions)\n",
        "        return encoded"
      ]
    },
    {
      "cell_type": "code",
      "execution_count": null,
      "metadata": {
        "id": "P8p1mxYA6n6i"
      },
      "outputs": [],
      "source": [
        "model = create_vit_classifier()\n"
      ]
    },
    {
      "cell_type": "code",
      "execution_count": null,
      "metadata": {
        "colab": {
          "base_uri": "https://localhost:8080/"
        },
        "id": "ZwNS4DAq6ya6",
        "outputId": "83e30c04-b920-4482-e5dd-2b817fca7481"
      },
      "outputs": [
        {
          "output_type": "stream",
          "name": "stdout",
          "text": [
            "Model: \"model\"\n",
            "__________________________________________________________________________________________________\n",
            " Layer (type)                   Output Shape         Param #     Connected to                     \n",
            "==================================================================================================\n",
            " input_1 (InputLayer)           [(None, 150, 150, 3  0           []                               \n",
            "                                )]                                                                \n",
            "                                                                                                  \n",
            " data_augmentation (Sequential)  (None, 150, 150, 3)  7          ['input_1[0][0]']                \n",
            "                                                                                                  \n",
            " patches_1 (Patches)            (None, None, 675)    0           ['data_augmentation[0][0]']      \n",
            "                                                                                                  \n",
            " patch_encoder (PatchEncoder)   (None, 100, 64)      49664       ['patches_1[0][0]']              \n",
            "                                                                                                  \n",
            " layer_normalization (LayerNorm  (None, 100, 64)     128         ['patch_encoder[0][0]']          \n",
            " alization)                                                                                       \n",
            "                                                                                                  \n",
            " multi_head_attention (MultiHea  (None, 100, 64)     66368       ['layer_normalization[0][0]',    \n",
            " dAttention)                                                      'layer_normalization[0][0]']    \n",
            "                                                                                                  \n",
            " add (Add)                      (None, 100, 64)      0           ['multi_head_attention[0][0]',   \n",
            "                                                                  'patch_encoder[0][0]']          \n",
            "                                                                                                  \n",
            " layer_normalization_1 (LayerNo  (None, 100, 64)     128         ['add[0][0]']                    \n",
            " rmalization)                                                                                     \n",
            "                                                                                                  \n",
            " dense_1 (Dense)                (None, 100, 128)     8320        ['layer_normalization_1[0][0]']  \n",
            "                                                                                                  \n",
            " dropout (Dropout)              (None, 100, 128)     0           ['dense_1[0][0]']                \n",
            "                                                                                                  \n",
            " dense_2 (Dense)                (None, 100, 64)      8256        ['dropout[0][0]']                \n",
            "                                                                                                  \n",
            " dropout_1 (Dropout)            (None, 100, 64)      0           ['dense_2[0][0]']                \n",
            "                                                                                                  \n",
            " add_1 (Add)                    (None, 100, 64)      0           ['dropout_1[0][0]',              \n",
            "                                                                  'add[0][0]']                    \n",
            "                                                                                                  \n",
            " layer_normalization_2 (LayerNo  (None, 100, 64)     128         ['add_1[0][0]']                  \n",
            " rmalization)                                                                                     \n",
            "                                                                                                  \n",
            " multi_head_attention_1 (MultiH  (None, 100, 64)     66368       ['layer_normalization_2[0][0]',  \n",
            " eadAttention)                                                    'layer_normalization_2[0][0]']  \n",
            "                                                                                                  \n",
            " add_2 (Add)                    (None, 100, 64)      0           ['multi_head_attention_1[0][0]', \n",
            "                                                                  'add_1[0][0]']                  \n",
            "                                                                                                  \n",
            " layer_normalization_3 (LayerNo  (None, 100, 64)     128         ['add_2[0][0]']                  \n",
            " rmalization)                                                                                     \n",
            "                                                                                                  \n",
            " dense_3 (Dense)                (None, 100, 128)     8320        ['layer_normalization_3[0][0]']  \n",
            "                                                                                                  \n",
            " dropout_2 (Dropout)            (None, 100, 128)     0           ['dense_3[0][0]']                \n",
            "                                                                                                  \n",
            " dense_4 (Dense)                (None, 100, 64)      8256        ['dropout_2[0][0]']              \n",
            "                                                                                                  \n",
            " dropout_3 (Dropout)            (None, 100, 64)      0           ['dense_4[0][0]']                \n",
            "                                                                                                  \n",
            " add_3 (Add)                    (None, 100, 64)      0           ['dropout_3[0][0]',              \n",
            "                                                                  'add_2[0][0]']                  \n",
            "                                                                                                  \n",
            " layer_normalization_4 (LayerNo  (None, 100, 64)     128         ['add_3[0][0]']                  \n",
            " rmalization)                                                                                     \n",
            "                                                                                                  \n",
            " multi_head_attention_2 (MultiH  (None, 100, 64)     66368       ['layer_normalization_4[0][0]',  \n",
            " eadAttention)                                                    'layer_normalization_4[0][0]']  \n",
            "                                                                                                  \n",
            " add_4 (Add)                    (None, 100, 64)      0           ['multi_head_attention_2[0][0]', \n",
            "                                                                  'add_3[0][0]']                  \n",
            "                                                                                                  \n",
            " layer_normalization_5 (LayerNo  (None, 100, 64)     128         ['add_4[0][0]']                  \n",
            " rmalization)                                                                                     \n",
            "                                                                                                  \n",
            " dense_5 (Dense)                (None, 100, 128)     8320        ['layer_normalization_5[0][0]']  \n",
            "                                                                                                  \n",
            " dropout_4 (Dropout)            (None, 100, 128)     0           ['dense_5[0][0]']                \n",
            "                                                                                                  \n",
            " dense_6 (Dense)                (None, 100, 64)      8256        ['dropout_4[0][0]']              \n",
            "                                                                                                  \n",
            " dropout_5 (Dropout)            (None, 100, 64)      0           ['dense_6[0][0]']                \n",
            "                                                                                                  \n",
            " add_5 (Add)                    (None, 100, 64)      0           ['dropout_5[0][0]',              \n",
            "                                                                  'add_4[0][0]']                  \n",
            "                                                                                                  \n",
            " layer_normalization_6 (LayerNo  (None, 100, 64)     128         ['add_5[0][0]']                  \n",
            " rmalization)                                                                                     \n",
            "                                                                                                  \n",
            " multi_head_attention_3 (MultiH  (None, 100, 64)     66368       ['layer_normalization_6[0][0]',  \n",
            " eadAttention)                                                    'layer_normalization_6[0][0]']  \n",
            "                                                                                                  \n",
            " add_6 (Add)                    (None, 100, 64)      0           ['multi_head_attention_3[0][0]', \n",
            "                                                                  'add_5[0][0]']                  \n",
            "                                                                                                  \n",
            " layer_normalization_7 (LayerNo  (None, 100, 64)     128         ['add_6[0][0]']                  \n",
            " rmalization)                                                                                     \n",
            "                                                                                                  \n",
            " dense_7 (Dense)                (None, 100, 128)     8320        ['layer_normalization_7[0][0]']  \n",
            "                                                                                                  \n",
            " dropout_6 (Dropout)            (None, 100, 128)     0           ['dense_7[0][0]']                \n",
            "                                                                                                  \n",
            " dense_8 (Dense)                (None, 100, 64)      8256        ['dropout_6[0][0]']              \n",
            "                                                                                                  \n",
            " dropout_7 (Dropout)            (None, 100, 64)      0           ['dense_8[0][0]']                \n",
            "                                                                                                  \n",
            " add_7 (Add)                    (None, 100, 64)      0           ['dropout_7[0][0]',              \n",
            "                                                                  'add_6[0][0]']                  \n",
            "                                                                                                  \n",
            " layer_normalization_8 (LayerNo  (None, 100, 64)     128         ['add_7[0][0]']                  \n",
            " rmalization)                                                                                     \n",
            "                                                                                                  \n",
            " multi_head_attention_4 (MultiH  (None, 100, 64)     66368       ['layer_normalization_8[0][0]',  \n",
            " eadAttention)                                                    'layer_normalization_8[0][0]']  \n",
            "                                                                                                  \n",
            " add_8 (Add)                    (None, 100, 64)      0           ['multi_head_attention_4[0][0]', \n",
            "                                                                  'add_7[0][0]']                  \n",
            "                                                                                                  \n",
            " layer_normalization_9 (LayerNo  (None, 100, 64)     128         ['add_8[0][0]']                  \n",
            " rmalization)                                                                                     \n",
            "                                                                                                  \n",
            " dense_9 (Dense)                (None, 100, 128)     8320        ['layer_normalization_9[0][0]']  \n",
            "                                                                                                  \n",
            " dropout_8 (Dropout)            (None, 100, 128)     0           ['dense_9[0][0]']                \n",
            "                                                                                                  \n",
            " dense_10 (Dense)               (None, 100, 64)      8256        ['dropout_8[0][0]']              \n",
            "                                                                                                  \n",
            " dropout_9 (Dropout)            (None, 100, 64)      0           ['dense_10[0][0]']               \n",
            "                                                                                                  \n",
            " add_9 (Add)                    (None, 100, 64)      0           ['dropout_9[0][0]',              \n",
            "                                                                  'add_8[0][0]']                  \n",
            "                                                                                                  \n",
            " layer_normalization_10 (LayerN  (None, 100, 64)     128         ['add_9[0][0]']                  \n",
            " ormalization)                                                                                    \n",
            "                                                                                                  \n",
            " multi_head_attention_5 (MultiH  (None, 100, 64)     66368       ['layer_normalization_10[0][0]', \n",
            " eadAttention)                                                    'layer_normalization_10[0][0]'] \n",
            "                                                                                                  \n",
            " add_10 (Add)                   (None, 100, 64)      0           ['multi_head_attention_5[0][0]', \n",
            "                                                                  'add_9[0][0]']                  \n",
            "                                                                                                  \n",
            " layer_normalization_11 (LayerN  (None, 100, 64)     128         ['add_10[0][0]']                 \n",
            " ormalization)                                                                                    \n",
            "                                                                                                  \n",
            " dense_11 (Dense)               (None, 100, 128)     8320        ['layer_normalization_11[0][0]'] \n",
            "                                                                                                  \n",
            " dropout_10 (Dropout)           (None, 100, 128)     0           ['dense_11[0][0]']               \n",
            "                                                                                                  \n",
            " dense_12 (Dense)               (None, 100, 64)      8256        ['dropout_10[0][0]']             \n",
            "                                                                                                  \n",
            " dropout_11 (Dropout)           (None, 100, 64)      0           ['dense_12[0][0]']               \n",
            "                                                                                                  \n",
            " add_11 (Add)                   (None, 100, 64)      0           ['dropout_11[0][0]',             \n",
            "                                                                  'add_10[0][0]']                 \n",
            "                                                                                                  \n",
            " layer_normalization_12 (LayerN  (None, 100, 64)     128         ['add_11[0][0]']                 \n",
            " ormalization)                                                                                    \n",
            "                                                                                                  \n",
            " multi_head_attention_6 (MultiH  (None, 100, 64)     66368       ['layer_normalization_12[0][0]', \n",
            " eadAttention)                                                    'layer_normalization_12[0][0]'] \n",
            "                                                                                                  \n",
            " add_12 (Add)                   (None, 100, 64)      0           ['multi_head_attention_6[0][0]', \n",
            "                                                                  'add_11[0][0]']                 \n",
            "                                                                                                  \n",
            " layer_normalization_13 (LayerN  (None, 100, 64)     128         ['add_12[0][0]']                 \n",
            " ormalization)                                                                                    \n",
            "                                                                                                  \n",
            " dense_13 (Dense)               (None, 100, 128)     8320        ['layer_normalization_13[0][0]'] \n",
            "                                                                                                  \n",
            " dropout_12 (Dropout)           (None, 100, 128)     0           ['dense_13[0][0]']               \n",
            "                                                                                                  \n",
            " dense_14 (Dense)               (None, 100, 64)      8256        ['dropout_12[0][0]']             \n",
            "                                                                                                  \n",
            " dropout_13 (Dropout)           (None, 100, 64)      0           ['dense_14[0][0]']               \n",
            "                                                                                                  \n",
            " add_13 (Add)                   (None, 100, 64)      0           ['dropout_13[0][0]',             \n",
            "                                                                  'add_12[0][0]']                 \n",
            "                                                                                                  \n",
            " layer_normalization_14 (LayerN  (None, 100, 64)     128         ['add_13[0][0]']                 \n",
            " ormalization)                                                                                    \n",
            "                                                                                                  \n",
            " multi_head_attention_7 (MultiH  (None, 100, 64)     66368       ['layer_normalization_14[0][0]', \n",
            " eadAttention)                                                    'layer_normalization_14[0][0]'] \n",
            "                                                                                                  \n",
            " add_14 (Add)                   (None, 100, 64)      0           ['multi_head_attention_7[0][0]', \n",
            "                                                                  'add_13[0][0]']                 \n",
            "                                                                                                  \n",
            " layer_normalization_15 (LayerN  (None, 100, 64)     128         ['add_14[0][0]']                 \n",
            " ormalization)                                                                                    \n",
            "                                                                                                  \n",
            " dense_15 (Dense)               (None, 100, 128)     8320        ['layer_normalization_15[0][0]'] \n",
            "                                                                                                  \n",
            " dropout_14 (Dropout)           (None, 100, 128)     0           ['dense_15[0][0]']               \n",
            "                                                                                                  \n",
            " dense_16 (Dense)               (None, 100, 64)      8256        ['dropout_14[0][0]']             \n",
            "                                                                                                  \n",
            " dropout_15 (Dropout)           (None, 100, 64)      0           ['dense_16[0][0]']               \n",
            "                                                                                                  \n",
            " add_15 (Add)                   (None, 100, 64)      0           ['dropout_15[0][0]',             \n",
            "                                                                  'add_14[0][0]']                 \n",
            "                                                                                                  \n",
            " layer_normalization_16 (LayerN  (None, 100, 64)     128         ['add_15[0][0]']                 \n",
            " ormalization)                                                                                    \n",
            "                                                                                                  \n",
            " flatten (Flatten)              (None, 6400)         0           ['layer_normalization_16[0][0]'] \n",
            "                                                                                                  \n",
            " dropout_16 (Dropout)           (None, 6400)         0           ['flatten[0][0]']                \n",
            "                                                                                                  \n",
            " dense_17 (Dense)               (None, 2048)         13109248    ['dropout_16[0][0]']             \n",
            "                                                                                                  \n",
            " dropout_17 (Dropout)           (None, 2048)         0           ['dense_17[0][0]']               \n",
            "                                                                                                  \n",
            " dense_18 (Dense)               (None, 1024)         2098176     ['dropout_17[0][0]']             \n",
            "                                                                                                  \n",
            " dropout_18 (Dropout)           (None, 1024)         0           ['dense_18[0][0]']               \n",
            "                                                                                                  \n",
            " dense_19 (Dense)               (None, 23)           23575       ['dropout_18[0][0]']             \n",
            "                                                                                                  \n",
            "==================================================================================================\n",
            "Total params: 15,946,398\n",
            "Trainable params: 15,946,391\n",
            "Non-trainable params: 7\n",
            "__________________________________________________________________________________________________\n"
          ]
        }
      ],
      "source": [
        "model.summary()"
      ]
    },
    {
      "cell_type": "code",
      "execution_count": null,
      "metadata": {
        "colab": {
          "base_uri": "https://localhost:8080/"
        },
        "id": "hGoG1-Qx2b8C",
        "outputId": "f7c597ec-f044-47a3-a5e6-b3429dadd04f"
      },
      "outputs": [
        {
          "output_type": "stream",
          "name": "stdout",
          "text": [
            "Epoch 1/100\n",
            "10/10 [==============================] - 172s 15s/step - loss: 3.9070 - accuracy: 0.1731 - top-5-accuracy: 0.5020 - val_loss: 1.9952 - val_accuracy: 0.3297 - val_top-5-accuracy: 0.7899\n",
            "Epoch 2/100\n",
            "10/10 [==============================] - 131s 13s/step - loss: 2.3766 - accuracy: 0.2979 - top-5-accuracy: 0.7053 - val_loss: 1.7245 - val_accuracy: 0.4058 - val_top-5-accuracy: 0.8551\n",
            "Epoch 3/100\n",
            "10/10 [==============================] - 131s 13s/step - loss: 2.0326 - accuracy: 0.3623 - top-5-accuracy: 0.8060 - val_loss: 1.5691 - val_accuracy: 0.4348 - val_top-5-accuracy: 0.9094\n",
            "Epoch 4/100\n",
            "10/10 [==============================] - 127s 13s/step - loss: 1.8449 - accuracy: 0.4211 - top-5-accuracy: 0.8349 - val_loss: 1.3810 - val_accuracy: 0.5181 - val_top-5-accuracy: 0.9348\n",
            "Epoch 5/100\n",
            "10/10 [==============================] - 128s 13s/step - loss: 1.6461 - accuracy: 0.4444 - top-5-accuracy: 0.8752 - val_loss: 1.2656 - val_accuracy: 0.5507 - val_top-5-accuracy: 0.9275\n",
            "Epoch 6/100\n",
            "10/10 [==============================] - 127s 13s/step - loss: 1.5062 - accuracy: 0.4952 - top-5-accuracy: 0.8973 - val_loss: 1.1469 - val_accuracy: 0.5616 - val_top-5-accuracy: 0.9457\n",
            "Epoch 7/100\n",
            "10/10 [==============================] - 127s 13s/step - loss: 1.4093 - accuracy: 0.5048 - top-5-accuracy: 0.9203 - val_loss: 1.0666 - val_accuracy: 0.5942 - val_top-5-accuracy: 0.9529\n",
            "Epoch 8/100\n",
            "10/10 [==============================] - 127s 13s/step - loss: 1.2945 - accuracy: 0.5479 - top-5-accuracy: 0.9416 - val_loss: 1.0023 - val_accuracy: 0.6123 - val_top-5-accuracy: 0.9638\n",
            "Epoch 9/100\n",
            "10/10 [==============================] - 132s 13s/step - loss: 1.2212 - accuracy: 0.5596 - top-5-accuracy: 0.9477 - val_loss: 0.9436 - val_accuracy: 0.6558 - val_top-5-accuracy: 0.9891\n",
            "Epoch 10/100\n",
            "10/10 [==============================] - 129s 13s/step - loss: 1.1578 - accuracy: 0.5777 - top-5-accuracy: 0.9557 - val_loss: 0.9113 - val_accuracy: 0.6812 - val_top-5-accuracy: 0.9783\n",
            "Epoch 11/100\n",
            "10/10 [==============================] - 129s 13s/step - loss: 1.0691 - accuracy: 0.6055 - top-5-accuracy: 0.9638 - val_loss: 0.9031 - val_accuracy: 0.6884 - val_top-5-accuracy: 0.9674\n",
            "Epoch 12/100\n",
            "10/10 [==============================] - 124s 12s/step - loss: 1.0362 - accuracy: 0.6196 - top-5-accuracy: 0.9634 - val_loss: 0.8489 - val_accuracy: 0.6848 - val_top-5-accuracy: 0.9783\n",
            "Epoch 13/100\n",
            "10/10 [==============================] - 126s 13s/step - loss: 0.9149 - accuracy: 0.6651 - top-5-accuracy: 0.9783 - val_loss: 0.8415 - val_accuracy: 0.6884 - val_top-5-accuracy: 0.9783\n",
            "Epoch 14/100\n",
            "10/10 [==============================] - 125s 13s/step - loss: 0.9246 - accuracy: 0.6675 - top-5-accuracy: 0.9714 - val_loss: 0.8393 - val_accuracy: 0.7065 - val_top-5-accuracy: 0.9746\n",
            "Epoch 15/100\n",
            "10/10 [==============================] - 129s 13s/step - loss: 0.8408 - accuracy: 0.6848 - top-5-accuracy: 0.9827 - val_loss: 0.8173 - val_accuracy: 0.7138 - val_top-5-accuracy: 0.9928\n",
            "Epoch 16/100\n",
            "10/10 [==============================] - 129s 13s/step - loss: 0.8014 - accuracy: 0.7130 - top-5-accuracy: 0.9827 - val_loss: 0.9270 - val_accuracy: 0.6341 - val_top-5-accuracy: 0.9964\n",
            "Epoch 17/100\n",
            "10/10 [==============================] - 136s 14s/step - loss: 0.8443 - accuracy: 0.6872 - top-5-accuracy: 0.9775 - val_loss: 0.7527 - val_accuracy: 0.7464 - val_top-5-accuracy: 0.9855\n",
            "Epoch 18/100\n",
            "10/10 [==============================] - 129s 13s/step - loss: 0.7184 - accuracy: 0.7287 - top-5-accuracy: 0.9887 - val_loss: 0.7402 - val_accuracy: 0.7319 - val_top-5-accuracy: 0.9819\n",
            "Epoch 19/100\n",
            "10/10 [==============================] - 129s 13s/step - loss: 0.6746 - accuracy: 0.7500 - top-5-accuracy: 0.9875 - val_loss: 0.7337 - val_accuracy: 0.7210 - val_top-5-accuracy: 0.9928\n",
            "Epoch 20/100\n",
            "10/10 [==============================] - 128s 13s/step - loss: 0.6605 - accuracy: 0.7568 - top-5-accuracy: 0.9915 - val_loss: 0.7347 - val_accuracy: 0.7319 - val_top-5-accuracy: 0.9891\n",
            "Epoch 21/100\n",
            "10/10 [==============================] - 128s 13s/step - loss: 0.6453 - accuracy: 0.7669 - top-5-accuracy: 0.9899 - val_loss: 0.6815 - val_accuracy: 0.7464 - val_top-5-accuracy: 0.9964\n",
            "Epoch 22/100\n",
            "10/10 [==============================] - 126s 13s/step - loss: 0.5964 - accuracy: 0.7685 - top-5-accuracy: 0.9940 - val_loss: 0.7090 - val_accuracy: 0.7246 - val_top-5-accuracy: 0.9928\n",
            "Epoch 23/100\n",
            "10/10 [==============================] - 123s 12s/step - loss: 0.5547 - accuracy: 0.7983 - top-5-accuracy: 0.9928 - val_loss: 0.6871 - val_accuracy: 0.7645 - val_top-5-accuracy: 0.9964\n",
            "Epoch 24/100\n",
            "10/10 [==============================] - 124s 13s/step - loss: 0.5073 - accuracy: 0.8180 - top-5-accuracy: 0.9964 - val_loss: 0.6691 - val_accuracy: 0.7572 - val_top-5-accuracy: 1.0000\n",
            "Epoch 25/100\n",
            "10/10 [==============================] - 130s 13s/step - loss: 0.5305 - accuracy: 0.7991 - top-5-accuracy: 0.9960 - val_loss: 0.6948 - val_accuracy: 0.7572 - val_top-5-accuracy: 0.9964\n",
            "Epoch 26/100\n",
            "10/10 [==============================] - 130s 13s/step - loss: 0.5333 - accuracy: 0.7935 - top-5-accuracy: 0.9960 - val_loss: 0.7012 - val_accuracy: 0.7609 - val_top-5-accuracy: 0.9855\n",
            "Epoch 27/100\n",
            "10/10 [==============================] - 131s 13s/step - loss: 0.5438 - accuracy: 0.8007 - top-5-accuracy: 0.9936 - val_loss: 0.7218 - val_accuracy: 0.7428 - val_top-5-accuracy: 1.0000\n",
            "Epoch 28/100\n",
            "10/10 [==============================] - 128s 13s/step - loss: 0.5155 - accuracy: 0.8108 - top-5-accuracy: 0.9944 - val_loss: 0.6771 - val_accuracy: 0.7681 - val_top-5-accuracy: 0.9891\n",
            "Epoch 29/100\n",
            "10/10 [==============================] - 129s 13s/step - loss: 0.4746 - accuracy: 0.8265 - top-5-accuracy: 0.9960 - val_loss: 0.7107 - val_accuracy: 0.7609 - val_top-5-accuracy: 0.9855\n",
            "Epoch 30/100\n",
            "10/10 [==============================] - 128s 13s/step - loss: 0.4219 - accuracy: 0.8442 - top-5-accuracy: 0.9968 - val_loss: 0.7217 - val_accuracy: 0.7391 - val_top-5-accuracy: 0.9964\n",
            "Epoch 31/100\n",
            "10/10 [==============================] - 129s 13s/step - loss: 0.4737 - accuracy: 0.8253 - top-5-accuracy: 0.9972 - val_loss: 0.6254 - val_accuracy: 0.7826 - val_top-5-accuracy: 1.0000\n",
            "Epoch 32/100\n",
            "10/10 [==============================] - 130s 13s/step - loss: 0.3938 - accuracy: 0.8567 - top-5-accuracy: 0.9972 - val_loss: 0.5902 - val_accuracy: 0.7971 - val_top-5-accuracy: 0.9964\n",
            "Epoch 33/100\n",
            "10/10 [==============================] - 128s 13s/step - loss: 0.3601 - accuracy: 0.8635 - top-5-accuracy: 0.9980 - val_loss: 0.6499 - val_accuracy: 0.8080 - val_top-5-accuracy: 0.9855\n",
            "Epoch 34/100\n",
            "10/10 [==============================] - 131s 13s/step - loss: 0.3807 - accuracy: 0.8535 - top-5-accuracy: 0.9972 - val_loss: 0.6859 - val_accuracy: 0.7754 - val_top-5-accuracy: 0.9928\n",
            "Epoch 35/100\n",
            "10/10 [==============================] - 130s 13s/step - loss: 0.3705 - accuracy: 0.8579 - top-5-accuracy: 0.9976 - val_loss: 0.5415 - val_accuracy: 0.7971 - val_top-5-accuracy: 0.9964\n",
            "Epoch 36/100\n",
            "10/10 [==============================] - 131s 13s/step - loss: 0.3533 - accuracy: 0.8651 - top-5-accuracy: 0.9972 - val_loss: 0.6384 - val_accuracy: 0.7971 - val_top-5-accuracy: 1.0000\n",
            "Epoch 37/100\n",
            "10/10 [==============================] - 129s 13s/step - loss: 0.3376 - accuracy: 0.8792 - top-5-accuracy: 0.9972 - val_loss: 0.6667 - val_accuracy: 0.8152 - val_top-5-accuracy: 0.9928\n",
            "Epoch 38/100\n",
            "10/10 [==============================] - 131s 13s/step - loss: 0.3186 - accuracy: 0.8833 - top-5-accuracy: 0.9984 - val_loss: 0.5633 - val_accuracy: 0.8116 - val_top-5-accuracy: 0.9928\n",
            "Epoch 39/100\n",
            "10/10 [==============================] - 129s 13s/step - loss: 0.3048 - accuracy: 0.8889 - top-5-accuracy: 0.9996 - val_loss: 0.6011 - val_accuracy: 0.8080 - val_top-5-accuracy: 0.9891\n",
            "Epoch 40/100\n",
            "10/10 [==============================] - 131s 13s/step - loss: 0.3210 - accuracy: 0.8853 - top-5-accuracy: 1.0000 - val_loss: 0.5844 - val_accuracy: 0.8188 - val_top-5-accuracy: 0.9928\n",
            "Epoch 41/100\n",
            "10/10 [==============================] - 130s 13s/step - loss: 0.2895 - accuracy: 0.8961 - top-5-accuracy: 0.9992 - val_loss: 0.5897 - val_accuracy: 0.8225 - val_top-5-accuracy: 0.9928\n",
            "Epoch 42/100\n",
            "10/10 [==============================] - 130s 13s/step - loss: 0.2296 - accuracy: 0.9191 - top-5-accuracy: 1.0000 - val_loss: 0.5075 - val_accuracy: 0.8514 - val_top-5-accuracy: 0.9928\n",
            "Epoch 43/100\n",
            "10/10 [==============================] - 129s 13s/step - loss: 0.2539 - accuracy: 0.9102 - top-5-accuracy: 0.9988 - val_loss: 0.6432 - val_accuracy: 0.8333 - val_top-5-accuracy: 0.9928\n",
            "Epoch 44/100\n",
            "10/10 [==============================] - 131s 13s/step - loss: 0.2974 - accuracy: 0.8933 - top-5-accuracy: 0.9996 - val_loss: 0.5115 - val_accuracy: 0.8659 - val_top-5-accuracy: 0.9928\n",
            "Epoch 45/100\n",
            "10/10 [==============================] - 133s 13s/step - loss: 0.3020 - accuracy: 0.8957 - top-5-accuracy: 0.9980 - val_loss: 0.5670 - val_accuracy: 0.8152 - val_top-5-accuracy: 0.9891\n",
            "Epoch 46/100\n",
            "10/10 [==============================] - 128s 13s/step - loss: 0.2568 - accuracy: 0.9062 - top-5-accuracy: 0.9988 - val_loss: 0.5827 - val_accuracy: 0.8333 - val_top-5-accuracy: 0.9928\n",
            "Epoch 47/100\n",
            "10/10 [==============================] - 127s 13s/step - loss: 0.2325 - accuracy: 0.9138 - top-5-accuracy: 0.9992 - val_loss: 0.5787 - val_accuracy: 0.8551 - val_top-5-accuracy: 0.9891\n",
            "Epoch 48/100\n",
            "10/10 [==============================] - 130s 13s/step - loss: 0.2183 - accuracy: 0.9207 - top-5-accuracy: 0.9988 - val_loss: 0.6096 - val_accuracy: 0.8551 - val_top-5-accuracy: 0.9964\n",
            "Epoch 49/100\n",
            "10/10 [==============================] - 131s 13s/step - loss: 0.1970 - accuracy: 0.9263 - top-5-accuracy: 0.9996 - val_loss: 0.5947 - val_accuracy: 0.8333 - val_top-5-accuracy: 0.9928\n",
            "Epoch 50/100\n",
            "10/10 [==============================] - 130s 13s/step - loss: 0.2156 - accuracy: 0.9235 - top-5-accuracy: 0.9992 - val_loss: 0.6102 - val_accuracy: 0.8442 - val_top-5-accuracy: 0.9891\n",
            "Epoch 51/100\n",
            "10/10 [==============================] - 130s 13s/step - loss: 0.2110 - accuracy: 0.9259 - top-5-accuracy: 0.9996 - val_loss: 0.5787 - val_accuracy: 0.8478 - val_top-5-accuracy: 0.9928\n",
            "Epoch 52/100\n",
            "10/10 [==============================] - 125s 12s/step - loss: 0.2096 - accuracy: 0.9271 - top-5-accuracy: 1.0000 - val_loss: 0.6248 - val_accuracy: 0.8442 - val_top-5-accuracy: 0.9928\n",
            "Epoch 53/100\n",
            "10/10 [==============================] - 128s 13s/step - loss: 0.1690 - accuracy: 0.9424 - top-5-accuracy: 1.0000 - val_loss: 0.5534 - val_accuracy: 0.8732 - val_top-5-accuracy: 0.9891\n",
            "Epoch 54/100\n",
            "10/10 [==============================] - 122s 12s/step - loss: 0.1514 - accuracy: 0.9440 - top-5-accuracy: 0.9996 - val_loss: 0.5674 - val_accuracy: 0.8659 - val_top-5-accuracy: 0.9891\n",
            "Epoch 55/100\n",
            "10/10 [==============================] - 122s 12s/step - loss: 0.1803 - accuracy: 0.9376 - top-5-accuracy: 1.0000 - val_loss: 0.6279 - val_accuracy: 0.8514 - val_top-5-accuracy: 0.9855\n",
            "Epoch 56/100\n",
            "10/10 [==============================] - 123s 12s/step - loss: 0.1908 - accuracy: 0.9336 - top-5-accuracy: 1.0000 - val_loss: 0.5197 - val_accuracy: 0.8841 - val_top-5-accuracy: 0.9928\n",
            "Epoch 57/100\n",
            "10/10 [==============================] - 124s 12s/step - loss: 0.1834 - accuracy: 0.9316 - top-5-accuracy: 1.0000 - val_loss: 0.5520 - val_accuracy: 0.8514 - val_top-5-accuracy: 0.9891\n",
            "Epoch 58/100\n",
            "10/10 [==============================] - 132s 13s/step - loss: 0.1595 - accuracy: 0.9404 - top-5-accuracy: 1.0000 - val_loss: 0.5614 - val_accuracy: 0.8841 - val_top-5-accuracy: 0.9964\n",
            "Epoch 59/100\n",
            "10/10 [==============================] - 129s 13s/step - loss: 0.1420 - accuracy: 0.9473 - top-5-accuracy: 1.0000 - val_loss: 0.5364 - val_accuracy: 0.8841 - val_top-5-accuracy: 0.9928\n",
            "Epoch 60/100\n",
            "10/10 [==============================] - 127s 13s/step - loss: 0.1495 - accuracy: 0.9493 - top-5-accuracy: 0.9984 - val_loss: 0.5783 - val_accuracy: 0.8442 - val_top-5-accuracy: 0.9964\n",
            "Epoch 61/100\n",
            "10/10 [==============================] - 129s 13s/step - loss: 0.1559 - accuracy: 0.9497 - top-5-accuracy: 1.0000 - val_loss: 0.6054 - val_accuracy: 0.8587 - val_top-5-accuracy: 0.9964\n",
            "Epoch 62/100\n",
            "10/10 [==============================] - 128s 13s/step - loss: 0.1515 - accuracy: 0.9509 - top-5-accuracy: 0.9996 - val_loss: 0.6097 - val_accuracy: 0.8623 - val_top-5-accuracy: 0.9964\n",
            "Epoch 63/100\n",
            "10/10 [==============================] - 125s 13s/step - loss: 0.1835 - accuracy: 0.9356 - top-5-accuracy: 1.0000 - val_loss: 0.6300 - val_accuracy: 0.8478 - val_top-5-accuracy: 0.9928\n",
            "Epoch 64/100\n",
            "10/10 [==============================] - 127s 13s/step - loss: 0.1739 - accuracy: 0.9352 - top-5-accuracy: 0.9988 - val_loss: 0.6750 - val_accuracy: 0.8442 - val_top-5-accuracy: 0.9891\n",
            "Epoch 65/100\n",
            "10/10 [==============================] - 125s 12s/step - loss: 0.1622 - accuracy: 0.9481 - top-5-accuracy: 0.9996 - val_loss: 0.6157 - val_accuracy: 0.8551 - val_top-5-accuracy: 0.9928\n",
            "Epoch 66/100\n",
            "10/10 [==============================] - 127s 13s/step - loss: 0.1411 - accuracy: 0.9525 - top-5-accuracy: 0.9996 - val_loss: 0.6775 - val_accuracy: 0.8478 - val_top-5-accuracy: 1.0000\n",
            "Epoch 67/100\n",
            "10/10 [==============================] - 128s 13s/step - loss: 0.1630 - accuracy: 0.9448 - top-5-accuracy: 1.0000 - val_loss: 0.6043 - val_accuracy: 0.8551 - val_top-5-accuracy: 0.9964\n",
            "Epoch 68/100\n",
            "10/10 [==============================] - 131s 13s/step - loss: 0.1418 - accuracy: 0.9469 - top-5-accuracy: 0.9996 - val_loss: 0.6040 - val_accuracy: 0.8949 - val_top-5-accuracy: 0.9891\n",
            "Epoch 69/100\n",
            "10/10 [==============================] - 128s 13s/step - loss: 0.1429 - accuracy: 0.9513 - top-5-accuracy: 0.9996 - val_loss: 0.6847 - val_accuracy: 0.8225 - val_top-5-accuracy: 0.9928\n",
            "Epoch 70/100\n",
            "10/10 [==============================] - 128s 13s/step - loss: 0.1736 - accuracy: 0.9400 - top-5-accuracy: 1.0000 - val_loss: 0.5422 - val_accuracy: 0.8659 - val_top-5-accuracy: 0.9964\n",
            "Epoch 71/100\n",
            "10/10 [==============================] - 125s 12s/step - loss: 0.1460 - accuracy: 0.9461 - top-5-accuracy: 1.0000 - val_loss: 0.5855 - val_accuracy: 0.8551 - val_top-5-accuracy: 1.0000\n",
            "Epoch 72/100\n",
            "10/10 [==============================] - 129s 13s/step - loss: 0.1312 - accuracy: 0.9481 - top-5-accuracy: 1.0000 - val_loss: 0.5239 - val_accuracy: 0.8804 - val_top-5-accuracy: 1.0000\n",
            "Epoch 73/100\n",
            "10/10 [==============================] - 125s 12s/step - loss: 0.1509 - accuracy: 0.9521 - top-5-accuracy: 0.9996 - val_loss: 0.5304 - val_accuracy: 0.8659 - val_top-5-accuracy: 0.9928\n",
            "Epoch 74/100\n",
            "10/10 [==============================] - 124s 12s/step - loss: 0.1097 - accuracy: 0.9561 - top-5-accuracy: 1.0000 - val_loss: 0.5313 - val_accuracy: 0.8804 - val_top-5-accuracy: 0.9928\n",
            "Epoch 75/100\n",
            "10/10 [==============================] - 125s 12s/step - loss: 0.1076 - accuracy: 0.9658 - top-5-accuracy: 1.0000 - val_loss: 0.5705 - val_accuracy: 0.8913 - val_top-5-accuracy: 0.9964\n",
            "Epoch 76/100\n",
            "10/10 [==============================] - 124s 12s/step - loss: 0.1353 - accuracy: 0.9533 - top-5-accuracy: 1.0000 - val_loss: 0.5460 - val_accuracy: 0.8623 - val_top-5-accuracy: 1.0000\n",
            "Epoch 77/100\n",
            "10/10 [==============================] - 124s 13s/step - loss: 0.1563 - accuracy: 0.9485 - top-5-accuracy: 1.0000 - val_loss: 0.6242 - val_accuracy: 0.8768 - val_top-5-accuracy: 1.0000\n",
            "Epoch 78/100\n",
            "10/10 [==============================] - 122s 12s/step - loss: 0.1371 - accuracy: 0.9541 - top-5-accuracy: 0.9996 - val_loss: 0.5393 - val_accuracy: 0.8514 - val_top-5-accuracy: 1.0000\n",
            "Epoch 79/100\n",
            "10/10 [==============================] - 121s 12s/step - loss: 0.1210 - accuracy: 0.9626 - top-5-accuracy: 0.9996 - val_loss: 0.5556 - val_accuracy: 0.8877 - val_top-5-accuracy: 1.0000\n",
            "Epoch 80/100\n",
            "10/10 [==============================] - 128s 13s/step - loss: 0.1286 - accuracy: 0.9610 - top-5-accuracy: 0.9996 - val_loss: 0.5686 - val_accuracy: 0.8768 - val_top-5-accuracy: 0.9964\n",
            "Epoch 81/100\n",
            "10/10 [==============================] - 128s 13s/step - loss: 0.1018 - accuracy: 0.9610 - top-5-accuracy: 1.0000 - val_loss: 0.5707 - val_accuracy: 0.8768 - val_top-5-accuracy: 1.0000\n",
            "Epoch 82/100\n",
            "10/10 [==============================] - 132s 13s/step - loss: 0.1223 - accuracy: 0.9601 - top-5-accuracy: 0.9996 - val_loss: 0.5934 - val_accuracy: 0.8696 - val_top-5-accuracy: 1.0000\n",
            "Epoch 83/100\n",
            "10/10 [==============================] - 132s 13s/step - loss: 0.1105 - accuracy: 0.9630 - top-5-accuracy: 0.9996 - val_loss: 0.5568 - val_accuracy: 0.8804 - val_top-5-accuracy: 0.9891\n",
            "Epoch 84/100\n",
            "10/10 [==============================] - 124s 12s/step - loss: 0.0962 - accuracy: 0.9682 - top-5-accuracy: 1.0000 - val_loss: 0.4710 - val_accuracy: 0.8877 - val_top-5-accuracy: 0.9928\n",
            "Epoch 85/100\n",
            "10/10 [==============================] - 129s 13s/step - loss: 0.0848 - accuracy: 0.9718 - top-5-accuracy: 0.9996 - val_loss: 0.5637 - val_accuracy: 0.8986 - val_top-5-accuracy: 0.9928\n",
            "Epoch 86/100\n",
            "10/10 [==============================] - 130s 13s/step - loss: 0.1227 - accuracy: 0.9601 - top-5-accuracy: 1.0000 - val_loss: 0.5964 - val_accuracy: 0.8551 - val_top-5-accuracy: 1.0000\n",
            "Epoch 87/100\n",
            "10/10 [==============================] - 136s 14s/step - loss: 0.0930 - accuracy: 0.9666 - top-5-accuracy: 1.0000 - val_loss: 0.6766 - val_accuracy: 0.8551 - val_top-5-accuracy: 0.9891\n",
            "Epoch 88/100\n",
            "10/10 [==============================] - 128s 13s/step - loss: 0.1011 - accuracy: 0.9646 - top-5-accuracy: 1.0000 - val_loss: 0.5828 - val_accuracy: 0.8768 - val_top-5-accuracy: 1.0000\n",
            "Epoch 89/100\n",
            "10/10 [==============================] - 130s 13s/step - loss: 0.1011 - accuracy: 0.9666 - top-5-accuracy: 1.0000 - val_loss: 0.5689 - val_accuracy: 0.8841 - val_top-5-accuracy: 0.9964\n",
            "Epoch 90/100\n",
            "10/10 [==============================] - 132s 13s/step - loss: 0.0838 - accuracy: 0.9694 - top-5-accuracy: 0.9996 - val_loss: 0.5478 - val_accuracy: 0.8732 - val_top-5-accuracy: 1.0000\n",
            "Epoch 91/100\n",
            "10/10 [==============================] - 133s 13s/step - loss: 0.0863 - accuracy: 0.9746 - top-5-accuracy: 1.0000 - val_loss: 0.6022 - val_accuracy: 0.8841 - val_top-5-accuracy: 0.9964\n",
            "Epoch 92/100\n",
            "10/10 [==============================] - 132s 13s/step - loss: 0.0725 - accuracy: 0.9750 - top-5-accuracy: 1.0000 - val_loss: 0.6225 - val_accuracy: 0.8732 - val_top-5-accuracy: 1.0000\n",
            "Epoch 93/100\n",
            "10/10 [==============================] - 133s 13s/step - loss: 0.0877 - accuracy: 0.9714 - top-5-accuracy: 1.0000 - val_loss: 0.5728 - val_accuracy: 0.8696 - val_top-5-accuracy: 1.0000\n",
            "Epoch 94/100\n",
            "10/10 [==============================] - 131s 13s/step - loss: 0.1081 - accuracy: 0.9642 - top-5-accuracy: 1.0000 - val_loss: 0.5617 - val_accuracy: 0.8949 - val_top-5-accuracy: 0.9964\n",
            "Epoch 95/100\n",
            "10/10 [==============================] - 132s 13s/step - loss: 0.0831 - accuracy: 0.9754 - top-5-accuracy: 1.0000 - val_loss: 0.5390 - val_accuracy: 0.8913 - val_top-5-accuracy: 0.9964\n",
            "Epoch 96/100\n",
            "10/10 [==============================] - 129s 13s/step - loss: 0.1021 - accuracy: 0.9690 - top-5-accuracy: 0.9996 - val_loss: 0.6219 - val_accuracy: 0.8732 - val_top-5-accuracy: 0.9891\n",
            "Epoch 97/100\n",
            "10/10 [==============================] - 137s 14s/step - loss: 0.0920 - accuracy: 0.9678 - top-5-accuracy: 1.0000 - val_loss: 0.5861 - val_accuracy: 0.8732 - val_top-5-accuracy: 0.9964\n",
            "Epoch 98/100\n",
            "10/10 [==============================] - 129s 13s/step - loss: 0.0825 - accuracy: 0.9746 - top-5-accuracy: 1.0000 - val_loss: 0.4953 - val_accuracy: 0.8913 - val_top-5-accuracy: 0.9928\n",
            "Epoch 99/100\n",
            "10/10 [==============================] - 129s 13s/step - loss: 0.0777 - accuracy: 0.9738 - top-5-accuracy: 1.0000 - val_loss: 0.4889 - val_accuracy: 0.8804 - val_top-5-accuracy: 0.9928\n",
            "Epoch 100/100\n",
            "10/10 [==============================] - 135s 13s/step - loss: 0.0691 - accuracy: 0.9795 - top-5-accuracy: 1.0000 - val_loss: 0.5017 - val_accuracy: 0.9022 - val_top-5-accuracy: 0.9964\n",
            "22/22 [==============================] - 11s 480ms/step - loss: 0.4734 - accuracy: 0.8986 - top-5-accuracy: 0.9870\n",
            "Test accuracy: 89.86%\n",
            "Test top 5 accuracy: 98.7%\n"
          ]
        }
      ],
      "source": [
        "def run_experiment(model):\n",
        "    optimizer = tfa.optimizers.AdamW(\n",
        "        learning_rate=learning_rate, weight_decay=weight_decay\n",
        "    )\n",
        "\n",
        "    model.compile(\n",
        "        optimizer=optimizer,\n",
        "        loss=keras.losses.SparseCategoricalCrossentropy(from_logits=True),\n",
        "        metrics=[\n",
        "            keras.metrics.SparseCategoricalAccuracy(name=\"accuracy\"),\n",
        "            keras.metrics.SparseTopKCategoricalAccuracy(5, name=\"top-5-accuracy\"),\n",
        "        ],\n",
        "    )\n",
        "\n",
        "    checkpoint_filepath = \"/tmp/checkpoint\"\n",
        "    checkpoint_callback = keras.callbacks.ModelCheckpoint(\n",
        "        checkpoint_filepath,\n",
        "        monitor=\"val_accuracy\",\n",
        "        save_best_only=True,\n",
        "        save_weights_only=True,\n",
        "    )\n",
        "\n",
        "    history = model.fit(\n",
        "        x=x_train,\n",
        "        y=y_train,\n",
        "        batch_size=batch_size,\n",
        "        epochs=num_epochs,\n",
        "        validation_split=0.1,\n",
        "        callbacks=[checkpoint_callback],\n",
        "    )\n",
        "\n",
        "    model.load_weights(checkpoint_filepath)\n",
        "    _, accuracy, top_5_accuracy = model.evaluate(x_test, y_test)\n",
        "    print(f\"Test accuracy: {round(accuracy * 100, 2)}%\")\n",
        "    print(f\"Test top 5 accuracy: {round(top_5_accuracy * 100, 2)}%\")\n",
        "\n",
        "    return history\n",
        "\n",
        "\n",
        "vit_classifier = create_vit_classifier()\n",
        "history = run_experiment(vit_classifier)"
      ]
    },
    {
      "cell_type": "code",
      "source": [
        "x_train_new,x_test_new,y_train_new,y_test_new=train_test_split(x_train,y_train,train_size=0.80,random_state=77,stratify=y_train)"
      ],
      "metadata": {
        "id": "vWPmg8dhNSG8"
      },
      "execution_count": null,
      "outputs": []
    },
    {
      "cell_type": "code",
      "source": [
        "score = vit_classifier.evaluate(x_test, y_test)"
      ],
      "metadata": {
        "colab": {
          "base_uri": "https://localhost:8080/"
        },
        "id": "cPMNosJsNlxh",
        "outputId": "2543aa08-e351-45c5-baf7-b5461153d046"
      },
      "execution_count": null,
      "outputs": [
        {
          "output_type": "stream",
          "name": "stdout",
          "text": [
            "22/22 [==============================] - 11s 486ms/step - loss: 0.4734 - accuracy: 0.8986 - top-5-accuracy: 0.9870\n"
          ]
        }
      ]
    },
    {
      "cell_type": "code",
      "source": [
        "print(\"Test Accuracy is %.2f\" % score[1])\n"
      ],
      "metadata": {
        "colab": {
          "base_uri": "https://localhost:8080/"
        },
        "id": "Eajcrk8iTzPR",
        "outputId": "d0b5690d-c812-4952-907a-b388ee7dac44"
      },
      "execution_count": null,
      "outputs": [
        {
          "output_type": "stream",
          "name": "stdout",
          "text": [
            "Test Accuracy is 0.90\n"
          ]
        }
      ]
    },
    {
      "cell_type": "code",
      "source": [],
      "metadata": {
        "colab": {
          "base_uri": "https://localhost:8080/"
        },
        "id": "qZuUhrBbUS3x",
        "outputId": "6e27f698-3c33-417b-d363-f97e3d36d3f1"
      },
      "execution_count": null,
      "outputs": [
        {
          "output_type": "stream",
          "name": "stdout",
          "text": [
            "3/3 [==============================] - 16s 4s/step - loss: 1.2011 - accuracy: 0.7420 - top-5-accuracy: 0.9609\n"
          ]
        },
        {
          "output_type": "execute_result",
          "data": {
            "text/plain": [
              "[1.2010527849197388, 0.7420290112495422, 0.960869550704956]"
            ]
          },
          "metadata": {},
          "execution_count": 50
        }
      ]
    },
    {
      "cell_type": "code",
      "source": [
        "epochs = [i for i in range(100)]\n",
        "fig , ax = plt.subplots(1,2)\n",
        "train_acc = history.history['accuracy']\n",
        "train_loss = history.history['loss']\n",
        "val_acc = history.history['val_accuracy']\n",
        "val_loss = history.history['val_loss']\n",
        "fig.set_size_inches(20,10)\n",
        "\n",
        "ax[0].plot(epochs , train_acc , 'go-' , label = 'Training Accuracy')\n",
        "ax[0].plot(epochs , val_acc , 'ro-' , label = 'Validation Accuracy')\n",
        "ax[0].set_title('Training & Validation Accuracy')\n",
        "ax[0].legend()\n",
        "ax[0].set_xlabel(\"Epochs\")\n",
        "ax[0].set_ylabel(\"Accuracy\")\n",
        "\n",
        "ax[1].plot(epochs , train_loss , 'g-o' , label = 'Training Loss')\n",
        "ax[1].plot(epochs , val_loss , 'r-o' , label = 'Validation Loss')\n",
        "ax[1].set_title('Testing Accuracy & Loss')\n",
        "ax[1].legend()\n",
        "ax[1].set_xlabel(\"Epochs\")\n",
        "ax[1].set_ylabel(\"Training & Validation Loss\")\n",
        "plt.show()"
      ],
      "metadata": {
        "colab": {
          "base_uri": "https://localhost:8080/",
          "height": 553
        },
        "id": "KiHIASYMl0J8",
        "outputId": "9a1cc935-3ebe-4fb6-f597-54259858998a"
      },
      "execution_count": null,
      "outputs": [
        {
          "output_type": "display_data",
          "data": {
            "text/plain": [
              "<Figure size 2000x1000 with 2 Axes>"
            ],
            "image/png": "[encoded data removed]"
          },
          "metadata": {}
        }
      ]
    },
    {
      "cell_type": "code",
      "execution_count": null,
      "metadata": {
        "id": "VZdVl14N2b-p",
        "colab": {
          "base_uri": "https://localhost:8080/"
        },
        "outputId": "08804154-c499-49a2-e4ed-7a618407997e"
      },
      "outputs": [
        {
          "output_type": "stream",
          "name": "stderr",
          "text": [
            "WARNING:absl:Found untraced functions such as dense_20_layer_call_fn, dense_20_layer_call_and_return_conditional_losses, embedding_1_layer_call_fn, embedding_1_layer_call_and_return_conditional_losses, query_layer_call_fn while saving (showing 5 of 100). These functions will not be directly callable after loading.\n"
          ]
        }
      ],
      "source": [
        "vit_classifier.save('/content/drive/MyDrive/VIT')\n",
        "\n",
        "\n"
      ]
    },
    {
      "cell_type": "code",
      "source": [
        "# serialize model to JSON\n",
        "model_json = vit_classifier.to_json()\n",
        "with open(\"VITmodel.json\", \"w\") as json_file:\n",
        "    json_file.write(model_json)\n",
        "# serialize weights to HDF5\n",
        "vit_classifier.save_weights(\"VITmodel.h5\")\n",
        "print(\"Saved model to disk\")"
      ],
      "metadata": {
        "colab": {
          "base_uri": "https://localhost:8080/"
        },
        "id": "ilZqUbCXW43T",
        "outputId": "e72b63af-40bf-4a47-a3c2-b3b2f3214719"
      },
      "execution_count": null,
      "outputs": [
        {
          "output_type": "stream",
          "name": "stdout",
          "text": [
            "Saved model to disk\n"
          ]
        }
      ]
    },
    {
      "cell_type": "code",
      "source": [
        "predictions = vit_classifier.predict(x_test).round()"
      ],
      "metadata": {
        "colab": {
          "base_uri": "https://localhost:8080/"
        },
        "id": "OLW5B_eBXgW8",
        "outputId": "9e1fdef4-9d3e-4422-87d6-c6eb273f7df1"
      },
      "execution_count": null,
      "outputs": [
        {
          "output_type": "stream",
          "name": "stdout",
          "text": [
            "22/22 [==============================] - 11s 491ms/step\n"
          ]
        }
      ]
    },
    {
      "cell_type": "code",
      "source": [
        "pred_label = np.argmax(predictions, axis=1)\n"
      ],
      "metadata": {
        "id": "cMHlvNrjX5K9"
      },
      "execution_count": null,
      "outputs": []
    },
    {
      "cell_type": "code",
      "source": [],
      "metadata": {
        "id": "K6QzRs67YCNs"
      },
      "execution_count": null,
      "outputs": []
    },
    {
      "cell_type": "markdown",
      "source": [
        "# Confusion Matrix"
      ],
      "metadata": {
        "id": "J8PGmRD-bAMW"
      }
    },
    {
      "cell_type": "code",
      "source": [
        "cf_matrix = confusion_matrix(y_test, pred_label)\n"
      ],
      "metadata": {
        "id": "dR4uea3xYOPZ"
      },
      "execution_count": null,
      "outputs": []
    },
    {
      "cell_type": "code",
      "source": [
        "classes = list(set(label_arr))"
      ],
      "metadata": {
        "id": "7-dFlEZXbOXC"
      },
      "execution_count": null,
      "outputs": []
    },
    {
      "cell_type": "code",
      "source": [
        "classes"
      ],
      "metadata": {
        "colab": {
          "base_uri": "https://localhost:8080/"
        },
        "id": "jlB97cm2cLvJ",
        "outputId": "8928b594-5ecb-4ded-c285-7bf2ffc929e4"
      },
      "execution_count": null,
      "outputs": [
        {
          "output_type": "execute_result",
          "data": {
            "text/plain": [
              "['Tomato Bacterial spot',\n",
              " 'Grape Black rot',\n",
              " 'Apple Black rot',\n",
              " 'Cercospora leaf spot',\n",
              " 'Tomato Spider mites Two spotted spider mite',\n",
              " 'Cherry (including sour) Powdery mildew',\n",
              " 'algal leaf in tea',\n",
              " 'anthracnose in tea',\n",
              " 'lemon canker',\n",
              " 'Healthy',\n",
              " 'Tomato Early blight',\n",
              " 'Tomato Septoria leaf spot',\n",
              " 'Potato Late blight',\n",
              " 'Apple Apple scab',\n",
              " 'bird eye spot in tea',\n",
              " 'Apple Cedar apple rust',\n",
              " 'cabbage looper',\n",
              " 'Tomato Target Spot',\n",
              " 'brown blight in tea',\n",
              " 'Common Rust in corn Leaf',\n",
              " 'Potato Early blight',\n",
              " 'Blight in corn Leaf',\n",
              " 'Gray Leaf Spot in corn Leaf']"
            ]
          },
          "metadata": {},
          "execution_count": 85
        }
      ]
    },
    {
      "cell_type": "code",
      "source": [
        "from sklearn.metrics import classification_report,confusion_matrix\n",
        "print(classification_report(y_test, pred_label, target_names = classes))"
      ],
      "metadata": {
        "colab": {
          "base_uri": "https://localhost:8080/"
        },
        "id": "1a553pi0cN1x",
        "outputId": "8aea40af-fe3b-458d-80e5-f87b2eed609a"
      },
      "execution_count": null,
      "outputs": [
        {
          "output_type": "stream",
          "name": "stdout",
          "text": [
            "                                             precision    recall  f1-score   support\n",
            "\n",
            "                      Tomato Bacterial spot       0.93      0.93      0.93        30\n",
            "                            Grape Black rot       0.78      0.93      0.85        30\n",
            "                            Apple Black rot       0.93      0.83      0.88        30\n",
            "                       Cercospora leaf spot       0.97      0.93      0.95        30\n",
            "Tomato Spider mites Two spotted spider mite       0.81      0.97      0.88        30\n",
            "     Cherry (including sour) Powdery mildew       0.92      0.73      0.81        30\n",
            "                          algal leaf in tea       0.91      1.00      0.95        30\n",
            "                         anthracnose in tea       0.94      0.97      0.95        30\n",
            "                               lemon canker       0.76      0.87      0.81        30\n",
            "                                    Healthy       0.87      0.87      0.87        30\n",
            "                        Tomato Early blight       0.96      0.87      0.91        30\n",
            "                  Tomato Septoria leaf spot       0.97      0.97      0.97        30\n",
            "                         Potato Late blight       0.96      0.90      0.93        30\n",
            "                           Apple Apple scab       0.96      0.73      0.83        30\n",
            "                       bird eye spot in tea       0.90      0.93      0.92        30\n",
            "                     Apple Cedar apple rust       0.97      1.00      0.98        30\n",
            "                             cabbage looper       0.82      0.93      0.87        30\n",
            "                         Tomato Target Spot       0.94      0.97      0.95        30\n",
            "                        brown blight in tea       0.85      0.77      0.81        30\n",
            "                   Common Rust in corn Leaf       0.86      0.83      0.85        30\n",
            "                        Potato Early blight       0.93      0.87      0.90        30\n",
            "                        Blight in corn Leaf       0.87      0.90      0.89        30\n",
            "                Gray Leaf Spot in corn Leaf       1.00      1.00      1.00        30\n",
            "\n",
            "                                   accuracy                           0.90       690\n",
            "                                  macro avg       0.90      0.90      0.90       690\n",
            "                               weighted avg       0.90      0.90      0.90       690\n",
            "\n"
          ]
        }
      ]
    },
    {
      "cell_type": "code",
      "source": [
        "from mlxtend.plotting import plot_confusion_matrix\n",
        "\n",
        "cm = confusion_matrix(y_test,predictions)\n",
        " \n",
        "fig, ax = plot_confusion_matrix(conf_mat=cm, figsize=(6, 6), cmap=plt.cm.Greens)\n",
        "plt.xlabel('Predictions', fontsize=18)\n",
        "plt.ylabel('Actuals', fontsize=18)\n",
        "plt.title('Confusion Matrix', fontsize=18)\n",
        "plt.show()"
      ],
      "metadata": {
        "colab": {
          "base_uri": "https://localhost:8080/",
          "height": 579
        },
        "id": "YOXz2dTQdHNY",
        "outputId": "c821d620-2ecf-47cd-f060-4ea2475bd3d4"
      },
      "execution_count": null,
      "outputs": [
        {
          "output_type": "display_data",
          "data": {
            "text/plain": [
              "<Figure size 600x600 with 1 Axes>"
            ],
            "image/png": "[encoded data removed]"
          },
          "metadata": {}
        }
      ]
    }
  ],
  "metadata": {
    "colab": {
      "provenance": []
    },
    "kernelspec": {
      "display_name": "Python 3",
      "name": "python3"
    },
    "language_info": {
      "name": "python"
    }
  },
  "nbformat": 4,
  "nbformat_minor": 0
}